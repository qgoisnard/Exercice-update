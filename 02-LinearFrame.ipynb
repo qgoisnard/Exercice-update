{
 "cells": [
  {
   "cell_type": "markdown",
   "metadata": {},
   "source": [
    "# From straight beams to frames"
   ]
  },
  {
   "cell_type": "markdown",
   "metadata": {},
   "source": [
    "A frame is obtained by assembling several straight beams with different orientations.\n",
    "Different from the case of classes, the beams are clamped one to each other (and not simply joined).\n",
    "\n",
    "The straight beam model illustrated in the `01-LinearBeam` notebook should be extended by including the possible different orientation of each element of the frame. This requires to consider a local and a global coordinate system."
   ]
  },
  {
   "cell_type": "markdown",
   "metadata": {},
   "source": [
    "The file `frame.py` contains the class `LinearFrame` proving a basic implementation of the matrix model of a linear frame. We will use it in this notebook by importing the content of the `frame.py` file (which consitutes a `python` module)."
   ]
  },
  {
   "cell_type": "code",
   "execution_count": 21,
   "metadata": {
    "collapsed": true
   },
   "outputs": [],
   "source": [
    "from frame import *"
   ]
  },
  {
   "cell_type": "code",
   "execution_count": 22,
   "metadata": {
    "collapsed": true
   },
   "outputs": [],
   "source": [
    "%matplotlib inline  \n",
    "from sympy.interactive import printing\n",
    "printing.init_printing()"
   ]
  },
  {
   "cell_type": "markdown",
   "metadata": {},
   "source": [
    "## Straight beam"
   ]
  },
  {
   "cell_type": "markdown",
   "metadata": {},
   "source": [
    "Let us first consider a straight beam, and show how we can use the `LinearFrame` class to solve a beam problem discretised into several elements, as in the `01-LinearBeam` notebook.\n",
    "\n",
    "We can define the frame as a set of nodes and elements, and start by plotting it"
   ]
  },
  {
   "cell_type": "code",
   "execution_count": 6,
   "metadata": {
    "collapsed": false
   },
   "outputs": [
    {
     "name": "stdout",
     "output_type": "stream",
     "text": [
      "Frame with\n",
      "4 elements\n",
      "5 nodes\n",
      "15 dofs\n"
     ]
    },
    {
     "data": {
      "text/plain": [
       "<matplotlib.axes._subplots.AxesSubplot at 0x7fadfee52908>"
      ]
     },
     "execution_count": 6,
     "metadata": {},
     "output_type": "execute_result"
    },
    {
     "data": {
      "image/png": "[encoded data removed]",
      "text/plain": [
       "<matplotlib.figure.Figure at 0x7fadfee9d4a8>"
      ]
     },
     "metadata": {},
     "output_type": "display_data"
    }
   ],
   "source": [
    "nodes = np.array([[ 0.  ,  0.  ],\n",
    "       [ 0.25,  0.  ],\n",
    "       [ 0.5 ,  0.  ],\n",
    "       [ 0.75,  0.  ],\n",
    "       [ 1.  ,  0.  ]])\n",
    "\n",
    "elements = np.array([[0, 1],\n",
    "       [1, 2],\n",
    "       [2, 3],\n",
    "       [3, 4]])\n",
    "\n",
    "frame = LinearFrame(nodes,elements)   \n",
    "\n",
    "frame.plot_with_label()"
   ]
  },
  {
   "cell_type": "markdown",
   "metadata": {},
   "source": [
    "We set the stiffness, loading (distributed force per unit line), bcs"
   ]
  },
  {
   "cell_type": "code",
   "execution_count": 7,
   "metadata": {
    "collapsed": false
   },
   "outputs": [],
   "source": [
    "ne = frame.nelements\n",
    "ndof = frame.ndof\n",
    "EI = np.ones(ne)*1.\n",
    "ES = np.ones(ne)*100.\n",
    "f_x = 0*np.ones(4)\n",
    "f_y = -10*np.ones(4)\n",
    "frame.set_distributed_loads(f_x, f_y)\n",
    "frame.set_stiffness(EI, ES)\n",
    "blocked_dof = np.array([0, 1, 2, ndof-3, ndof-2, ndof-1])\n",
    "bc_values = np.array([0, 0, 0, 0, 0, 0])"
   ]
  },
  {
   "cell_type": "markdown",
   "metadata": {},
   "source": [
    "Hence, we use the dedicated functions to assemble the linear system and impose bcs"
   ]
  },
  {
   "cell_type": "code",
   "execution_count": 9,
   "metadata": {
    "collapsed": true
   },
   "outputs": [],
   "source": [
    "F = frame.assemble_F()\n",
    "K = frame.assemble_K()\n",
    "Kbc, Fbc = frame.bc_apply(K,F,blocked_dof,bc_values)"
   ]
  },
  {
   "cell_type": "markdown",
   "metadata": {},
   "source": [
    "Finally we solve and represent the solution"
   ]
  },
  {
   "cell_type": "code",
   "execution_count": 14,
   "metadata": {
    "collapsed": false
   },
   "outputs": [
    {
     "data": {
      "image/png": "[encoded data removed]",
      "text/plain": [
       "<matplotlib.figure.Figure at 0x7fae03c48278>"
      ]
     },
     "metadata": {},
     "output_type": "display_data"
    }
   ],
   "source": [
    "Usol = np.linalg.solve(Kbc,Fbc)\n",
    "frame.set_displacement(Usol)\n",
    "#frame.plot_with_label()\n",
    "frame.plot_displaced()"
   ]
  },
  {
   "cell_type": "markdown",
   "metadata": {},
   "source": [
    "## A simple frame"
   ]
  },
  {
   "cell_type": "code",
   "execution_count": 15,
   "metadata": {
    "collapsed": false
   },
   "outputs": [
    {
     "name": "stdout",
     "output_type": "stream",
     "text": [
      "Frame with\n",
      "2 elements\n",
      "3 nodes\n",
      "9 dofs\n"
     ]
    },
    {
     "data": {
      "text/plain": [
       "<matplotlib.axes._subplots.AxesSubplot at 0x7fae03c96a90>"
      ]
     },
     "execution_count": 15,
     "metadata": {},
     "output_type": "execute_result"
    },
    {
     "data": {
      "image/png": "[encoded data removed]",
      "text/plain": [
       "<matplotlib.figure.Figure at 0x7fadfee83438>"
      ]
     },
     "metadata": {},
     "output_type": "display_data"
    }
   ],
   "source": [
    "nodes = np.array([[ 0.  ,  0.  ],\n",
    "                    [ 0.,  1.  ],\n",
    "                    [ 1.,  1.  ]\n",
    "                 ])\n",
    "elements = np.array([[0, 1],[1,2]])\n",
    "\n",
    "frame = LinearFrame(nodes,elements)   \n",
    "\n",
    "frame.plot_with_label()"
   ]
  },
  {
   "cell_type": "code",
   "execution_count": 17,
   "metadata": {
    "collapsed": false
   },
   "outputs": [
    {
     "name": "stdout",
     "output_type": "stream",
     "text": [
      "[  0.00000000e+00   0.00000000e+00   0.00000000e+00   1.25000000e-01\n",
      "  -6.93889390e-18  -1.66666667e-01   1.25000000e-01  -1.66666667e-01\n",
      "  -1.66666667e-01]\n"
     ]
    },
    {
     "data": {
      "image/png": "[encoded data removed]",
      "text/plain": [
       "<matplotlib.figure.Figure at 0x7fadfe99e9e8>"
      ]
     },
     "metadata": {},
     "output_type": "display_data"
    }
   ],
   "source": [
    "ne = frame.nelements\n",
    "# inputs\n",
    "EI = np.ones(ne)*1.\n",
    "ES = np.ones(ne)*100.\n",
    "f_y = np.array([0.,0.])\n",
    "f_x = np.array([1.,0.])\n",
    "blocked_dof = np.array([0, 1, 2])\n",
    "bc_values = np.array([0, 0, 0])\n",
    "frame.set_stiffness(EI, ES)\n",
    "frame.set_distributed_loads(f_x, -.5*f_y)\n",
    "# Assemble\n",
    "F = frame.assemble_F()\n",
    "K = frame.assemble_K()\n",
    "# Impose bcs\n",
    "Kbc, Fbc = frame.bc_apply(K,F,blocked_dof,bc_values)\n",
    "# Solve\n",
    "Usol = np.linalg.solve(Kbc,Fbc)\n",
    "# Plot \n",
    "print(Usol)\n",
    "frame.set_displacement(Usol)\n",
    "frame.plot_with_label()\n",
    "frame.plot_displaced()"
   ]
  },
  {
   "cell_type": "markdown",
   "metadata": {},
   "source": [
    "We can note the use of the rotation from the local to global coordinate systems in the different steps inside the program (e.g. assembling). \n",
    "The rotation matrix allowing to pass a vector (e.g. local displacement) from the local to the global coordinate system is"
   ]
  },
  {
   "cell_type": "code",
   "execution_count": 17,
   "metadata": {
    "collapsed": false
   },
   "outputs": [
    {
     "data": {
      "image/png": "[encoded data removed]",
      "text/latex": [
       "$$\\left[\\begin{matrix}\\cos{\\left (\\alpha \\right )} & \\sin{\\left (\\alpha \\right )} & 0 & 0 & 0 & 0\\\\- \\sin{\\left (\\alpha \\right )} & \\cos{\\left (\\alpha \\right )} & 0 & 0 & 0 & 0\\\\0 & 0 & 1 & 0 & 0 & 0\\\\0 & 0 & 0 & \\cos{\\left (\\alpha \\right )} & \\sin{\\left (\\alpha \\right )} & 0\\\\0 & 0 & 0 & - \\sin{\\left (\\alpha \\right )} & \\cos{\\left (\\alpha \\right )} & 0\\\\0 & 0 & 0 & 0 & 0 & 1\\end{matrix}\\right]$$"
      ],
      "text/plain": [
       "⎡cos(α)   sin(α)  0     0       0     0⎤\n",
       "⎢                                      ⎥\n",
       "⎢-sin(α)  cos(α)  0     0       0     0⎥\n",
       "⎢                                      ⎥\n",
       "⎢   0       0     1     0       0     0⎥\n",
       "⎢                                      ⎥\n",
       "⎢   0       0     0  cos(α)   sin(α)  0⎥\n",
       "⎢                                      ⎥\n",
       "⎢   0       0     0  -sin(α)  cos(α)  0⎥\n",
       "⎢                                      ⎥\n",
       "⎣   0       0     0     0       0     1⎦"
      ]
     },
     "execution_count": 17,
     "metadata": {},
     "output_type": "execute_result"
    }
   ],
   "source": [
    "alpha = sp.Symbol('alpha')\n",
    "frame.rotation_matrix(alpha)"
   ]
  },
  {
   "cell_type": "markdown",
   "metadata": {},
   "source": [
    "where $\\alpha$ is the orientation angle of an element"
   ]
  },
  {
   "cell_type": "markdown",
   "metadata": {},
   "source": [
    "## Exercise 1\n",
    "\n",
    "Use the program to solve this problem\n",
    "$$\n",
    "E = 10^4 MPa, \\quad I = 10^3  mm^4,\\quad S = 10 mm^2\\quad L = 100 mm\\quad P= 10N\\quad w=0.24N/mm\n",
    "$$\n",
    "You can verify against the solution provided below"
   ]
  },
  {
   "cell_type": "markdown",
   "metadata": {},
   "source": [
    "![alt text](figures/ex_frame_1.png)\n",
    "![alt text](figures/ex_frame_1_sol.png)"
   ]
  },
  {
   "cell_type": "markdown",
   "metadata": {},
   "source": [
    "## Exercice 2\n",
    "\n",
    "The Young modulus of the silicon is approximately $E=1300$ KPa. \n",
    "The cross section of the beams have a height $h=7.5$ mm and a width $b=20$ mm. \n",
    "The total width of the frame is $55$ mm.\n",
    "The length of the upper posts is $60$ mm.\n",
    "The length of the lower posts is $45$ mm.\n",
    "The frame is fixed in the soil.\n",
    "\n",
    "The mass density is $\\rho = 1100 kg/m^3$  \n",
    "\n",
    "Can you predict what is the mass that is hanged in the middle of the upper beam?\n",
    "\n",
    "![alt text](figures/frame-exp.jpg)"
   ]
  },
  {
   "cell_type": "markdown",
   "metadata": {},
   "source": [
    "## Exercice 3\n",
    "\n",
    "* Implement functions to extract the value of the normal force in each element\n",
    "\n",
    "* Implement functions to plot N,T,M in each element\n"
   ]
  },
  {
   "cell_type": "markdown",
   "metadata": {},
   "source": [
    "## References\n",
    "\n",
    "You find below few references freely available online as pdfs:\n",
    "\n",
    "* http://joegattas.com/wp-content/uploads/2015/08/3340-Lectures-7-to-12-S1-2015.pdf\n",
    "* http://www.facweb.iitkgp.ernet.in/~baidurya/CE21004/online_lecture_notes/m4l30.pdf\n",
    "* http://people.duke.edu/~hpgavin/cee421/\n",
    "* http://people.duke.edu/~hpgavin/cee421/frame-element.pdf"
   ]
  }
 ],
 "metadata": {
  "kernelspec": {
   "display_name": "Python 2",
   "language": "python",
   "name": "python2"
  },
  "language_info": {
   "codemirror_mode": {
    "name": "ipython",
    "version": 2
   },
   "file_extension": ".py",
   "mimetype": "text/x-python",
   "name": "python",
   "nbconvert_exporter": "python",
   "pygments_lexer": "ipython2",
   "version": "2.7.11"
  }
 },
 "nbformat": 4,
 "nbformat_minor": 0
}
