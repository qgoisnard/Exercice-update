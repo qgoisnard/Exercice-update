{
 "cells": [
  {
   "cell_type": "markdown",
   "metadata": {},
   "source": [
    "# Bucking analysis\n",
    "\n",
    "The aim of this notebook is to introduce the linearized buckling analysis of a frame. \n",
    "\n",
    "The practical recipe is exposed in Section 4. Section 1-3 provide a quick justification of the method.   "
   ]
  },
  {
   "cell_type": "markdown",
   "metadata": {},
   "source": [
    "## 1 Linearization around the prestressed state"
   ]
  },
  {
   "cell_type": "markdown",
   "metadata": {},
   "source": [
    "We found a solution of the completely linearized problem under the action of the external loading. Let us denote the corresponding displacement and stress field in a generic beam of a frame as\n",
    "$$\n",
    "u_0(s),\\; v_0(s),\\;N_0,\\;T_0, \\; M_0(s);\\qquad \\text{(solution of the linear problem)}\n",
    "$$\n",
    "We call it the **fundamental solution**. In the buckling analysis we study the existence of other solutions close to this fundamental solution.\n",
    "Since this solution is found by a linear analysis, it is linear in the applied loading. In particular, if we denote by $\\bar N_0$ the axial stress in the bar for a reference distributioon of the external loadings, if all the loading are multiplied by a factor $\\lambda$, the axial stress in the beam will be  $N_0=\\lambda\\,\\bar N_0$, where $\\lambda$ is called **load multiplier**\n"
   ]
  },
  {
   "cell_type": "markdown",
   "metadata": {},
   "source": [
    "We apply an Euler buckling analysis, where we suppose that the fundamental configuration is with negligible displacements ($u_0(s),v_0(s)\\ll 1$) but possibly large internal stresses ($N_0, T_0, M_0\\simeq 1$). This is possible for stiff frames ($ES, EI\\gg 1$). \n",
    "\n",
    "Hence, we introduce the effect of the geometrical nonlinearities and we perform a new linearization around this fundamental solution with negligible deflection but large stress.\n",
    "\n",
    "We use the moderate rotations approximation (see the first notebook):\n",
    "$$\n",
    "\\begin{cases}\n",
    "u'(s)&=(1+\\epsilon(s))\\cos\\theta(s) - 1\\simeq \\epsilon(s)-\\dfrac{\\theta(s)^2}{2}\\\\\n",
    "v'(s)&=(1+\\epsilon(s))\\sin\\theta(s) \\simeq \\theta(s)+o(\\theta^2)\n",
    "\\end{cases}\n",
    "$$\n",
    "\n",
    "Within this approximation the deformations are given by\n",
    "$$\n",
    "\\begin{cases}\n",
    "\\epsilon(s) &=& u'(s) + \\dfrac{v'(s)^2}{2}\\\\\n",
    "k(s) &=& v''(s)\n",
    "\\end{cases}\n",
    "$$\n",
    "Here, a non-constant transverse deflection induces an axial stretching. \n",
    "\n",
    "With this approximation the elastic energy reads as\n",
    "$$\n",
    "\\mathcal{E}(u,v)=\\int_0^L\\dfrac{EI}{2} v''(s)^2 + \\dfrac{ES}{2} \\left(u'(s)+ \\dfrac{v'(s)^2}{2}\\right)^2\\,ds\n",
    "$$"
   ]
  },
  {
   "cell_type": "markdown",
   "metadata": {},
   "source": [
    "The energy above in non-linear (4th order) in $u$ and $v$. This means that the equilibrium equation (which is obtained after taking the derivative of the energy) will be of the 3rd order. We introduce now some approximations that allows us to obtain a quadratic version of the energy (linearized model around the prestressed state).\n",
    "\n",
    "Expanding the last term and neglecting the contribution in $v'^4$ we get:\n",
    "$$\n",
    "\\mathcal{E}(u,v)=\\int_0^L\\dfrac{EI}{2} v''(s)^2 + \\dfrac{ES}{2} u'(s)^2+  \\dfrac{ES}{2}u'(s){v'(s)^2}\\,ds\n",
    "$$\n",
    "We further approximate the last cubic term by replacing ${ES}u'(s)$ with the normal stress of the fundamental solution $N_0$. Hence we finally have:\n",
    "\n",
    "$$\n",
    "\\mathcal{E}(u,v)=\\int_0^L\\dfrac{EI}{2} v''(s)^2 + \\dfrac{ES}{2} u'(s)^2+  N_0{v'(s)^2}\\,ds\n",
    "$$\n",
    "\n",
    "In this new problem, there are no other external loading than the prestresses $N_0$. Hence, the total potential energy coincides with the sum of the elastic energies of each beam segment. The equilibrium configuration will then be the stationary points of this energy among all admissible variations."
   ]
  },
  {
   "cell_type": "markdown",
   "metadata": {},
   "source": [
    "## 2 Discretized version"
   ]
  },
  {
   "cell_type": "markdown",
   "metadata": {},
   "source": [
    "Let us introduce the discretisation for the displacement in a beam segment described in the first notebook (linear in $u$ and cubic in $v$). Let us denote by $U^{(e)}$ the element dof vector, having as components the displacements and rotations at the two nodes of the element. \n",
    "\n",
    "Using a linear interpolation for the axial displacement, the axial stress $N_0$ will be constant in each beam segment."
   ]
  },
  {
   "cell_type": "markdown",
   "metadata": {},
   "source": [
    "The discretised elastic energy of an element will then read as \n",
    "$$\n",
    "\\mathcal{E}(U^{(e)})=\\dfrac{1}{2}K^{(e)}U^{(e)}\\cdot U^{(e)}-\\dfrac{\\lambda}{2}G^{(e)}U^{(e)}\\cdot U^{(e)}\n",
    "$$\n",
    "where\n",
    "$K^{(e)}$ is the elastic stiffness matrix of the element (including bending and extension contribution) defined in the first notebook, $\\lambda$ is the load multiplier of the fundamental solution, and  $G^{(e)}$ is a new **geometric stiffness**.\n"
   ]
  },
  {
   "cell_type": "markdown",
   "metadata": {},
   "source": [
    "______\n",
    "** Exercice.  ** Show that \n",
    "$$\n",
    "\\boxed{G^{(e)}_{ij}=-\\bar N_0^{(e)}\\int_0^LS_{1i}'(s)S_{1j}'(s) ds},\\quad i,j=1,\\ldots,6\n",
    "$$\n",
    "where $S$ is the shape function matrix introduced in the first notebook and $\\bar N_0^{(e)}$ the value of the axial stress in the fundamental solution in the element $e$ for a unit value of the load multiplier. \n",
    "\n",
    "** Remark. ** In buckling problems it is costumary to introduce the negative sign to get a positive matrix for compressive loadings. \n",
    "______"
   ]
  },
  {
   "cell_type": "markdown",
   "metadata": {},
   "source": [
    "We can obtain the energy of the whole frame by summing over the element and using the assembling procedure already used for the elastic stiffness matrix $K$. Hence, if we denote by $U$ the global nodal displacement vector for the whole frame, the total energy of the frame will read as\n",
    "\n",
    "$$\n",
    "\\mathcal{E}(U)=\\dfrac{1}{2}(K-\\lambda G)U\\cdot U\n",
    "$$\n",
    "\n",
    "We assume that the prestresses are the only loading acting on the system. Hence the total potential energy coincides with $\\mathcal{E}$ above and the equilibrium of the frame is then given by the stationarity condition of this new energy:\n",
    "\n",
    "$$\n",
    "\\dfrac{\\partial\\mathcal{E}}{\\partial U}=(K-\\lambda G)U = 0\n",
    "$$\n",
    "\n",
    "To account for blocked degrees of freedom associated to Dirichlet boundary conditions, we can use one of the two techniques presented at the end of the first notebook. For example we can set to 0 the corresponding rows and columns in the $K$ and $G$ matrices, and set 1 on the diagonal.\n",
    "\n",
    "The system above admits always the solution $U=0$. This concides with the fundamental solution. "
   ]
  },
  {
   "cell_type": "markdown",
   "metadata": {},
   "source": [
    "## 3 The buckling problem\n",
    "\n",
    "The **buckling problem** consists in looking for the value of the **load multiplier** $\\lambda$ for which the system \n",
    "$$\n",
    "(K-\\lambda G)U =0\n",
    "$$\n",
    "admits non null solutions. We will call these values of the load multiplier $\\lambda_c^{(i)}$ the **buckling loads** and  the corresponding non null solutions $U^{(i)}_c$ the **buckling modes**. This problem is a **generalized eigenvalue problem**\n",
    "that can be solved numerically with the techniques introduced in the dedicated notebook."
   ]
  },
  {
   "cell_type": "markdown",
   "metadata": {},
   "source": [
    "## 4 Final recipe to study the frame buckling\n",
    "\n",
    "In summary, to find the buckling loads and modes one can use the following practical recipe.\n",
    "_____\n",
    "\n",
    "0. Consider a given frame with a given loading distribution. \n",
    "\n",
    "1. Solve the **linear problem** $K U =F$ of the notebook 2 under the action of the given loadings. This will give the **fundamental solution**.\n",
    "\n",
    "2. Extract the **normal stress** in each bar $\\bar N^{(e)}$ for the fundamental solution, that we can collect in a vector having as length the number of elements.\n",
    "\n",
    "3. Assemble the **geometric stiffness** $G$ and modify it to account for the Dirichlet Boundary conditions.\n",
    "\n",
    "4. Solve the **eigenvalue problem**\n",
    "$$\n",
    "(K-\\lambda \\,G)U =0\n",
    "$$\n",
    "which gives the **buckling load multipliers** $\\lambda_c^{(i)}$ and the **buckling modes** $U^{(i)}_c$.\n",
    "_____\n",
    "\n",
    "\n",
    "We can conclude from this analysis that the fundamental solution is locally unique (and stable, indeed) for load multipliers smaller than the first critical load $\\lambda_c^{(0)}$. At $\\lambda=\\lambda_c^{(0)}$ a new solution departing from the fundamental solution with the shape associated with the first buckling mode $U^{(0)}_c$ is possible. We can also show, that for $\\lambda>\\lambda_c^{(0)}$ the fundamental solution will be unstable."
   ]
  },
  {
   "cell_type": "code",
   "execution_count": null,
   "metadata": {
    "collapsed": true
   },
   "outputs": [],
   "source": []
  }
 ],
 "metadata": {
  "kernelspec": {
   "display_name": "Python 2",
   "language": "python",
   "name": "python2"
  },
  "language_info": {
   "codemirror_mode": {
    "name": "ipython",
    "version": 2
   },
   "file_extension": ".py",
   "mimetype": "text/x-python",
   "name": "python",
   "nbconvert_exporter": "python",
   "pygments_lexer": "ipython2",
   "version": "2.7.10"
  }
 },
 "nbformat": 4,
 "nbformat_minor": 0
}
