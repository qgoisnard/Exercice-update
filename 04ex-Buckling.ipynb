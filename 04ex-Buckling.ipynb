{
 "cells": [
  {
   "cell_type": "markdown",
   "metadata": {},
   "source": [
    "# Project on frame buckling"
   ]
  },
  {
   "cell_type": "markdown",
   "metadata": {},
   "source": [
    "1. Define a new class `Frame_Buckling` as a child of the class `LinearFrame` provided in `frame.py`. Add in this class methods to extract the **normal stress** $\\bar N_0$ in each bar and to assemble the *geometric stiffness* $G$.\n",
    "\n",
    "\n",
    "2. Solve the buckling problem for a simply supported straight beam using the `Frame_Buckling` class and compare with the analytical solution (see e.g. cours/TD 3A103) when using different number of element. \n",
    "\n",
    "\n",
    "\n",
    "3. Solve the buckling problem for the frame of the Exercise 2 in the notebook 02-LinearFrame. Compare with the experimental findings on the first buckling load and mode. Represent the first 2 buckling modes.\n",
    "\n",
    "\n",
    "\n",
    "4. Propose an improved geometry of the frame  of the Exercise 2 in the notebook 02-LinearFrame to increase the buckling load. Support your proposal with numerical results.\n",
    "\n",
    "\n",
    "(For classes in `python` you can look https://en.wikibooks.org/wiki/A_Beginner%27s_Python_Tutorial/Classes, for example)"
   ]
  },
  {
   "cell_type": "code",
   "execution_count": 2,
   "metadata": {
    "collapsed": true
   },
   "outputs": [],
   "source": [
    "%matplotlib inline  \n",
    "from sympy.interactive import printing\n",
    "printing.init_printing()\n",
    "from frame import *\n",
    "import sympy as sp\n",
    "import numpy as np\n",
    "import scipy.sparse as sparse\n",
    "import scipy.sparse.linalg as linalg"
   ]
  },
  {
   "cell_type": "code",
   "execution_count": 3,
   "metadata": {
    "collapsed": false
   },
   "outputs": [],
   "source": [
    "class Frame_Buckling(LinearFrame):\n",
    "\n",
    "    def N_local_stress(self,element):\n",
    "\n",
    "        \"\"\"\n",
    "        Returns the normal forces of an element.\n",
    "        \"\"\"\n",
    "        Ke= self.K_local()\n",
    "        Ue= self.U_e_local_coord(element)\n",
    "        F=Ke*Ue\n",
    "        N_local = F[3]\n",
    "        return N_local\n",
    "    \n",
    "    def N_local_stress_tot(self):\n",
    "\n",
    "        \"\"\"\n",
    "        Returns the normal force of all elements.\n",
    "        \"\"\"\n",
    "        Ns=[self.N_local_stress(e)for e in range (self.nelements)]\n",
    "        return Ns\n",
    "    \n",
    "    def G_local(self):\n",
    "        \"\"\"\n",
    "        Returns the global geometric stiffness matrix\n",
    "        \"\"\"\n",
    "        L = sp.Symbol('L')\n",
    "        s = sp.Symbol('s')\n",
    "        S=self.S()\n",
    "        Ge=sp.Matrix([[sp.integrate(S[1,i_local].diff(s)*S[1,j_local].diff(s),(s,0,L) )for i_local in range(6)] for j_local in range(6)]) \n",
    "        return Ge\n",
    "    \n",
    "    def G_local_rotated(self):\n",
    "        \"\"\"\n",
    "        Gives the analytical expression the local geometric stiffness matrix in the global coordinate system \n",
    "        as a function of the orientation angle alpha\n",
    "        \"\"\"\n",
    "        alpha = sp.Symbol(\"alpha\")\n",
    "        R = self.rotation_matrix(alpha)\n",
    "        Ge = R.transpose()*self.G_local()*R\n",
    "        return Ge\n",
    "    \n",
    "    def assemble_G(self):\n",
    "        \"\"\"\n",
    "        Returns the global stiffness matrix\n",
    "        \"\"\"\n",
    "        Ge = self.G_local_rotated()\n",
    "        G = np.zeros([self.ndof,self.ndof])\n",
    "        N0=self.N_local_stress_tot()\n",
    "        for e in range(self.nelements):\n",
    "            Gen = -N0[e].subs({'EI': self.EI[e], 'ES': self.ES[e], 'L': self.Ls[e], 'alpha': self.angles[e]})*Ge.subs({'EI': self.EI[e], 'ES': self.ES[e], 'L': self.Ls[e], 'alpha': self.angles[e]})\n",
    "            for i_local in range(6):\n",
    "                for j_local in range(6):\n",
    "                    G[self.dof_map(e, i_local),self.dof_map(e, j_local)] += Gen[i_local,j_local]\n",
    "        return G\n",
    "    \n",
    "    def bc_apply_G(self,G,blocked_dof):\n",
    "        for (dof) in enumerate(blocked_dof): \n",
    "            Gbc = G \n",
    "            Gbc[dof, :] = 0\n",
    "            Gbc[:, dof] = 0\n",
    "            Gbc[dof, dof] = 1\n",
    "        return Gbc"
   ]
  },
  {
   "cell_type": "code",
   "execution_count": 4,
   "metadata": {
    "collapsed": true
   },
   "outputs": [],
   "source": [
    "def full_power_method(A, niterations_max=50, tol=1e-15):\n",
    "    xn = np.zeros((len(A), niterations_max+1))\n",
    "    xn[:, 0] = np.ones((len(A),)) + 1e-7*np.random.rand(len(A))\n",
    "    rn = np.ones((niterations_max+1,))\n",
    "    for k in range(niterations_max):\n",
    "        xn[:,k] = xn[:,k] / np.linalg.norm(xn[:,k])\n",
    "        xn[:,k+1] = np.dot(A, xn[:,k])\n",
    "        rn[k+1] = np.sum(xn[:,k+1])/np.sum(xn[:,k])\n",
    "        if (abs(rn[k+1]-rn[k]) < tol):\n",
    "            break\n",
    "    if k < niterations_max:\n",
    "        rn[k+2:] = rn[k+1] # This ensures the later values are set to something sensible.\n",
    "    return (rn[k+1], rn, xn[:,k+1]/ np.linalg.norm(xn[:,k+1]))\n",
    "\n",
    "def inverse_power_method(A, niterations_max=50, tol=1e-15):\n",
    "    xn = np.zeros((len(A), niterations_max+1))\n",
    "    xn[:, 0] = np.ones((len(A),)) + 1e-7*np.random.rand(len(A))\n",
    "    rn = np.ones((niterations_max+1,))\n",
    "    for k in range(niterations_max):\n",
    "        xn[:,k] = xn[:,k] / np.linalg.norm(xn[:,k])\n",
    "        xn[:,k+1] = np.linalg.solve(A, xn[:,k])\n",
    "        rn[k+1] = np.sum(xn[:,k+1])/np.sum(xn[:,k])\n",
    "        if (abs(rn[k+1]-rn[k]) < tol):\n",
    "            break\n",
    "    if k < niterations_max:\n",
    "        rn[k+2:] = rn[k+1] # This ensures the later values are set to something sensible.\n",
    "    return (1.0/rn[k+1], 1.0/rn, xn[:,k+1]/ np.linalg.norm(xn[:,k+1]))"
   ]
  },
  {
   "cell_type": "code",
   "execution_count": 5,
   "metadata": {
    "collapsed": true
   },
   "outputs": [],
   "source": [
    "E=1.3 #en MPa\n",
    "h=7.5 #en mm\n",
    "b=20. #en mm\n",
    "Lx=55. #en mm\n",
    "Lyh=60. #en mm\n",
    "Lyb=45. #en mm\n",
    "I=b*(h**3)/12 #en mm^4\n",
    "S=b*h  #en mm^2\n",
    "eps=10**(-3)\n",
    "g=9.81 #en m.s^(-2)\n",
    "m=1 #en kg"
   ]
  },
  {
   "cell_type": "code",
   "execution_count": 6,
   "metadata": {
    "collapsed": false
   },
   "outputs": [
    {
     "name": "stdout",
     "output_type": "stream",
     "text": [
      "Frame with\n",
      "10 elements\n",
      "11 nodes\n",
      "33 dofs\n"
     ]
    },
    {
     "data": {
      "text/plain": [
       "<matplotlib.axes._subplots.AxesSubplot at 0x7fc319625c18>"
      ]
     },
     "execution_count": 6,
     "metadata": {},
     "output_type": "execute_result"
    },
    {
     "data": {
      "image/png": "[encoded data removed]",
      "text/plain": [
       "<matplotlib.figure.Figure at 0x7fc319625390>"
      ]
     },
     "metadata": {},
     "output_type": "display_data"
    }
   ],
   "source": [
    "n_elements = 10\n",
    "xnodes = np.linspace(0,1000,n_elements + 1)\n",
    "ynodes = np.linspace(0,0,n_elements + 1)\n",
    "nodes = np.array([xnodes,ynodes]).transpose()\n",
    "n_nodes = xnodes.size\n",
    "elements=np.array([[0,1],[1,2],[2,3],[3,4],[4,5],[5,6],[6,7],[7,8],[8,9],[9,10]])\n",
    "\n",
    "frame= Frame_Buckling(nodes,elements)\n",
    "frame.plot_with_label()"
   ]
  },
  {
   "cell_type": "code",
   "execution_count": 7,
   "metadata": {
    "collapsed": true
   },
   "outputs": [],
   "source": [
    "ne = frame.nelements\n",
    "ndof = frame.ndof\n",
    "EI = np.ones(ne)*E*I\n",
    "ES = np.ones(ne)*E*S\n",
    "f_x = 0*np.ones(ne)\n",
    "f_y = 0*np.ones(ne)\n",
    "frame.set_distributed_loads(f_x, f_y)\n",
    "frame.set_stiffness(EI, ES)\n",
    "blocked_dof = np.array([0, 1, ndof-2])\n",
    "bc_values = np.array([0, 0, 0])"
   ]
  },
  {
   "cell_type": "code",
   "execution_count": 8,
   "metadata": {
    "collapsed": false
   },
   "outputs": [
    {
     "data": {
      "text/plain": [
       "array([ 0.        ,  0.        ,  0.        , -0.51282051,  0.        ,\n",
       "        0.        , -1.02564103,  0.        ,  0.        , -1.53846154,\n",
       "        0.        ,  0.        , -2.05128205,  0.        ,  0.        ,\n",
       "       -2.56410256,  0.        ,  0.        , -3.07692308,  0.        ,\n",
       "        0.        , -3.58974359,  0.        ,  0.        , -4.1025641 ,\n",
       "        0.        ,  0.        , -4.61538462,  0.        ,  0.        ,\n",
       "       -5.12820513,  0.        ,  0.        ])"
      ]
     },
     "execution_count": 8,
     "metadata": {},
     "output_type": "execute_result"
    }
   ],
   "source": [
    "K = frame.assemble_K()\n",
    "F=frame.assemble_F()\n",
    "#F[12]=F[12]-.5*EI[0]*np.pi**2\n",
    "F[ndof-3]=F[ndof-3]-1.\n",
    "Kbc, Fbc = frame.bc_apply(K, F, blocked_dof, bc_values)\n",
    "Usol = np.linalg.solve(Kbc,Fbc)\n",
    "Usol"
   ]
  },
  {
   "cell_type": "code",
   "execution_count": 9,
   "metadata": {
    "collapsed": false
   },
   "outputs": [
    {
     "data": {
      "image/png": "[encoded data removed]",
      "text/plain": [
       "<matplotlib.figure.Figure at 0x7fc31963c198>"
      ]
     },
     "metadata": {},
     "output_type": "display_data"
    }
   ],
   "source": [
    "frame.set_displacement(Usol)\n",
    "frame.plot_with_label()\n",
    "frame.plot_displaced()"
   ]
  },
  {
   "cell_type": "code",
   "execution_count": 10,
   "metadata": {
    "collapsed": false
   },
   "outputs": [],
   "source": [
    "Gbc=frame.assemble_G()\n",
    "G=frame.bc_apply_G(Gbc,blocked_dof)"
   ]
  },
  {
   "cell_type": "code",
   "execution_count": 11,
   "metadata": {
    "collapsed": false
   },
   "outputs": [
    {
     "name": "stdout",
     "output_type": "stream",
     "text": [
      "[  8.77865919e-03   4.50557314e+00   5.08998538e+00   5.43777076e+00\n",
      "   3.74556940e+01]\n"
     ]
    }
   ],
   "source": [
    "Ks = sparse.csr_matrix(K)\n",
    "Gs = sparse.csr_matrix(G)\n",
    "val, vect = linalg.eigsh(Ks, 5, Gs, which = 'LA', sigma =4.)\n",
    "print(val)"
   ]
  },
  {
   "cell_type": "code",
   "execution_count": 12,
   "metadata": {
    "collapsed": false,
    "scrolled": true
   },
   "outputs": [
    {
     "data": {
      "image/png": "[encoded data removed]",
      "text/plain": [
       "<matplotlib.figure.Figure at 0x7fc300d744a8>"
      ]
     },
     "metadata": {},
     "output_type": "display_data"
    }
   ],
   "source": [
    "frame.set_displacement(10*vect[:,0])\n",
    "frame.plot_with_label()\n",
    "frame.plot_displaced()"
   ]
  },
  {
   "cell_type": "code",
   "execution_count": 13,
   "metadata": {
    "collapsed": false
   },
   "outputs": [
    {
     "data": {
      "image/png": "[encoded data removed]",
      "text/latex": [
       "$$0.009021435272870741$$"
      ],
      "text/plain": [
       "0.009021435272870741"
      ]
     },
     "execution_count": 13,
     "metadata": {},
     "output_type": "execute_result"
    }
   ],
   "source": [
    "E*I*np.pi**2/1000**2"
   ]
  },
  {
   "cell_type": "markdown",
   "metadata": {},
   "source": [
    "## Essai sur exercice 2"
   ]
  },
  {
   "cell_type": "code",
   "execution_count": 14,
   "metadata": {
    "collapsed": true
   },
   "outputs": [],
   "source": [
    "E=1.3 #en MPa\n",
    "h=7.5 #en mm\n",
    "b=20. #en mm\n",
    "Lx=55. #en mm\n",
    "Lyh=60. #en mm\n",
    "Lyb=45. #en mm\n",
    "I=b*(h**3)/12 #en mm^4\n",
    "S=b*h  #en mm^2\n",
    "eps=10**(-3)\n",
    "g=9.81 #en m.s^(-2)\n",
    "m=0.05 #en kg"
   ]
  },
  {
   "cell_type": "code",
   "execution_count": 15,
   "metadata": {
    "collapsed": false
   },
   "outputs": [
    {
     "name": "stdout",
     "output_type": "stream",
     "text": [
      "Frame with\n",
      "7 elements\n",
      "7 nodes\n",
      "21 dofs\n"
     ]
    },
    {
     "data": {
      "text/plain": [
       "<matplotlib.axes._subplots.AxesSubplot at 0x7fc300b97ef0>"
      ]
     },
     "execution_count": 15,
     "metadata": {},
     "output_type": "execute_result"
    },
    {
     "data": {
      "image/png": "[encoded data removed]",
      "text/plain": [
       "<matplotlib.figure.Figure at 0x7fc300d07278>"
      ]
     },
     "metadata": {},
     "output_type": "display_data"
    }
   ],
   "source": [
    "nodes= np.array([[0.,0.],[0.,Lyb],[0.,Lyh+Lyb],[Lx/2,Lyh+Lyb],[Lx,Lyh+Lyb],[Lx,Lyb],[Lx,0.]])\n",
    "elements=np.array([[0,1],[1,5],[1,2],[2,3],[3,4],[4,5],[5,6]])\n",
    "\n",
    "frame= Frame_Buckling(nodes,elements)\n",
    "frame.plot_with_label()"
   ]
  },
  {
   "cell_type": "code",
   "execution_count": 16,
   "metadata": {
    "collapsed": false
   },
   "outputs": [],
   "source": [
    "ne = frame.nelements\n",
    "ndof = frame.ndof\n",
    "EI = np.ones(ne)*E*I\n",
    "ES = np.ones(ne)*E*S\n",
    "EI[1]=100*E*I;EI[3]=100*E*I;EI[4]=100*E*I\n",
    "ES[1]=100*E*S;ES[3]=100*E*S;ES[4]=100*E*S\n",
    "f_x = 0*np.ones(7)\n",
    "f_y = 0*np.ones(7)\n",
    "frame.set_distributed_loads(f_x, f_y)\n",
    "frame.set_stiffness(EI, ES)\n",
    "blocked_dof = np.array([0, 1, 2, ndof-3, ndof-2, ndof-1])\n",
    "bc_values = np.array([0, 0, 0, 0, 0, 0])"
   ]
  },
  {
   "cell_type": "code",
   "execution_count": 17,
   "metadata": {
    "collapsed": false,
    "scrolled": true
   },
   "outputs": [
    {
     "data": {
      "text/plain": [
       "array([  0.00000000e+00,   0.00000000e+00,   0.00000000e+00,\n",
       "        -4.39259550e-06,  -1.15384615e-01,   1.78560218e-05,\n",
       "         4.32514107e-06,  -2.69230769e-01,  -2.03130319e-03,\n",
       "        -7.68273795e-16,  -3.06641245e-01,   1.23630733e-17,\n",
       "        -4.32514108e-06,  -2.69230769e-01,   2.03130319e-03,\n",
       "         4.39259550e-06,  -1.15384615e-01,  -1.78560218e-05,\n",
       "         0.00000000e+00,   0.00000000e+00,   0.00000000e+00])"
      ]
     },
     "execution_count": 17,
     "metadata": {},
     "output_type": "execute_result"
    }
   ],
   "source": [
    "K = frame.assemble_K()\n",
    "F=frame.assemble_F()\n",
    "#F[10]=F[10]-.5*EI[0]*np.pi**2/(Lyb+Lyh)**2\n",
    "F[10]=F[10]-1.\n",
    "Kbc, Fbc = frame.bc_apply(K, F, blocked_dof, bc_values)\n",
    "Usol = np.linalg.solve(Kbc,Fbc)\n",
    "Usol"
   ]
  },
  {
   "cell_type": "code",
   "execution_count": 18,
   "metadata": {
    "collapsed": false
   },
   "outputs": [],
   "source": [
    "frame.set_displacement(Usol)"
   ]
  },
  {
   "cell_type": "code",
   "execution_count": 19,
   "metadata": {
    "collapsed": false
   },
   "outputs": [],
   "source": [
    "Ge=frame.N_local_stress_tot()"
   ]
  },
  {
   "cell_type": "code",
   "execution_count": 20,
   "metadata": {
    "collapsed": false
   },
   "outputs": [],
   "source": [
    "Gbc=frame.assemble_G()\n",
    "G=frame.bc_apply_G(Gbc,blocked_dof)"
   ]
  },
  {
   "cell_type": "code",
   "execution_count": 21,
   "metadata": {
    "collapsed": false
   },
   "outputs": [
    {
     "name": "stdout",
     "output_type": "stream",
     "text": [
      "[   3.99767142    5.36565293  423.22822822]\n",
      "[  5.15162734e-17  -2.21317756e-16   2.30236861e-17   6.50447440e-02\n",
      "  -8.12498565e-01   1.63150037e-02  -4.17056613e+00  -8.60368598e-01\n",
      "   1.80970747e-02  -4.17056550e+00  -3.74631231e-01   1.74435097e-02\n",
      "  -4.17056488e+00   1.10807231e-01   1.80753363e-02   6.49168433e-02\n",
      "   6.29371975e-02   1.61651694e-02   8.05378491e-17  -2.41237220e-17\n",
      "   1.10936469e-16]\n"
     ]
    }
   ],
   "source": [
    "Ks = sparse.csr_matrix(K)\n",
    "Gs = sparse.csr_matrix(G)\n",
    "val, vect = linalg.eigsh(Ks, 3, Gs, which = 'LA', sigma = 3.)\n",
    "print(val)\n",
    "print(vect[:,0])\n"
   ]
  },
  {
   "cell_type": "code",
   "execution_count": 22,
   "metadata": {
    "collapsed": false
   },
   "outputs": [
    {
     "data": {
      "image/png": "[encoded data removed]",
      "text/plain": [
       "<matplotlib.figure.Figure at 0x7fc300ba7668>"
      ]
     },
     "metadata": {},
     "output_type": "display_data"
    }
   ],
   "source": [
    "frame.set_displacement(1*vect[:,0])\n",
    "frame.plot_with_label()\n",
    "frame.plot_displaced()"
   ]
  },
  {
   "cell_type": "markdown",
   "metadata": {
    "collapsed": true
   },
   "source": [
    "# Essai sur d'autres structures"
   ]
  },
  {
   "cell_type": "markdown",
   "metadata": {},
   "source": [
    "Structure avec des piliers au milieu :"
   ]
  },
  {
   "cell_type": "code",
   "execution_count": 73,
   "metadata": {
    "collapsed": false
   },
   "outputs": [
    {
     "name": "stdout",
     "output_type": "stream",
     "text": [
      "Frame with\n",
      "11 elements\n",
      "8 nodes\n",
      "24 dofs\n"
     ]
    },
    {
     "data": {
      "text/plain": [
       "<matplotlib.axes._subplots.AxesSubplot at 0x7fc300a775f8>"
      ]
     },
     "execution_count": 73,
     "metadata": {},
     "output_type": "execute_result"
    },
    {
     "data": {
      "image/png": "[encoded data removed]",
      "text/plain": [
       "<matplotlib.figure.Figure at 0x7fc300841390>"
      ]
     },
     "metadata": {},
     "output_type": "display_data"
    }
   ],
   "source": [
    "nodes= np.array([[0.,0.],[0.,Lyb],[0.,Lyh+Lyb],[Lx/2,Lyh+Lyb],[Lx,Lyh+Lyb],[Lx,Lyb],[Lx/2,Lyh/2+Lyb],[Lx,0.]])\n",
    "elements=np.array([[0,1],[1,5],[1,2],[2,3],[3,4],[4,5],[1,6],[2,6],[4,6],[5,6],[5,7]])\n",
    "\n",
    "frame= Frame_Buckling(nodes,elements)\n",
    "frame.plot_with_label()"
   ]
  },
  {
   "cell_type": "code",
   "execution_count": 74,
   "metadata": {
    "collapsed": true
   },
   "outputs": [],
   "source": [
    "ne = frame.nelements\n",
    "ndof = frame.ndof\n",
    "EI = np.ones(ne)*E*I\n",
    "ES = np.ones(ne)*E*S\n",
    "EI[1]=100*E*I;EI[3]=100*E*I;EI[4]=100*E*I\n",
    "ES[1]=100*E*S;ES[3]=100*E*S;ES[4]=100*E*S\n",
    "f_x = 0*np.ones(ne)\n",
    "f_y = 0*np.ones(ne)\n",
    "frame.set_distributed_loads(f_x, f_y)\n",
    "frame.set_stiffness(EI, ES)\n",
    "blocked_dof = np.array([0, 1, 2, ndof-3, ndof-2, ndof-1])\n",
    "bc_values = np.array([0, 0, 0, 0, 0, 0])"
   ]
  },
  {
   "cell_type": "code",
   "execution_count": 75,
   "metadata": {
    "collapsed": false
   },
   "outputs": [],
   "source": [
    "K = frame.assemble_K()\n",
    "F=frame.assemble_F()\n",
    "#F[10]=F[10]-.5*EI[0]*np.pi**2/(Lyb+Lyh)**2\n",
    "F[10]=F[10]-1.\n",
    "Kbc, Fbc = frame.bc_apply(K, F, blocked_dof, bc_values)\n",
    "Usol = np.linalg.solve(Kbc,Fbc)"
   ]
  },
  {
   "cell_type": "code",
   "execution_count": 76,
   "metadata": {
    "collapsed": true
   },
   "outputs": [],
   "source": [
    "frame.set_displacement(Usol)"
   ]
  },
  {
   "cell_type": "code",
   "execution_count": 77,
   "metadata": {
    "collapsed": false
   },
   "outputs": [],
   "source": [
    "Gbc=frame.assemble_G()\n",
    "G=frame.bc_apply_G(Gbc,blocked_dof)"
   ]
  },
  {
   "cell_type": "code",
   "execution_count": 82,
   "metadata": {
    "collapsed": false
   },
   "outputs": [
    {
     "name": "stdout",
     "output_type": "stream",
     "text": [
      "[ 4.29238722  4.81997583  5.59237037]\n",
      "[ -2.10024045e-01   6.48754591e-02   9.51077802e-02  -2.11503428e-01\n",
      "   2.17195147e-02   4.00677445e-01   3.45079161e+00  -8.53365029e-01\n",
      "   1.20126920e+00   3.33484704e+00   4.64113976e+01   1.49331502e+00\n",
      "   3.21890247e+00   4.17754594e+01  -9.79298171e-01  -1.08914486e+00\n",
      "   4.00354974e+01  -2.99011769e-01   1.16861902e+00   1.37864384e+01\n",
      "   2.15967691e-01  -1.27621393e-01  -1.16438534e-01  -7.36282926e-02]\n"
     ]
    }
   ],
   "source": [
    "Ks = sparse.csr_matrix(K)\n",
    "Gs = sparse.csr_matrix(G)\n",
    "val, vect = linalg.eigsh(Ks, 3, Gs, which = 'LA', sigma =4.)\n",
    "print(val)\n",
    "print(vect[:,1])"
   ]
  },
  {
   "cell_type": "code",
   "execution_count": 83,
   "metadata": {
    "collapsed": false
   },
   "outputs": [
    {
     "data": {
      "image/png": "[encoded data removed]",
      "text/plain": [
       "<matplotlib.figure.Figure at 0x7fc300beb780>"
      ]
     },
     "metadata": {},
     "output_type": "display_data"
    }
   ],
   "source": [
    "frame.set_displacement(1*vect[:,0])\n",
    "frame.plot_with_label()\n",
    "frame.plot_displaced()"
   ]
  },
  {
   "cell_type": "markdown",
   "metadata": {},
   "source": [
    "Structure avec deux forces et sans étage renforcé :"
   ]
  },
  {
   "cell_type": "code",
   "execution_count": 32,
   "metadata": {
    "collapsed": false
   },
   "outputs": [
    {
     "name": "stdout",
     "output_type": "stream",
     "text": [
      "Frame with\n",
      "7 elements\n",
      "7 nodes\n",
      "21 dofs\n"
     ]
    },
    {
     "data": {
      "text/plain": [
       "<matplotlib.axes._subplots.AxesSubplot at 0x7fc300c37128>"
      ]
     },
     "execution_count": 32,
     "metadata": {},
     "output_type": "execute_result"
    },
    {
     "data": {
      "image/png": "[encoded data removed]",
      "text/plain": [
       "<matplotlib.figure.Figure at 0x7fc3009f2588>"
      ]
     },
     "metadata": {},
     "output_type": "display_data"
    }
   ],
   "source": [
    "nodes= np.array([[0.,0.],[0.,Lyb],[0.,Lyh+Lyb],[Lx/2,Lyh+Lyb],[Lx,Lyh+Lyb],[Lx,Lyb],[Lx,0.]])\n",
    "elements=np.array([[0,1],[1,5],[1,2],[2,3],[3,4],[4,5],[5,6]])\n",
    "\n",
    "frame= Frame_Buckling(nodes,elements)\n",
    "frame.plot_with_label()"
   ]
  },
  {
   "cell_type": "code",
   "execution_count": 33,
   "metadata": {
    "collapsed": true
   },
   "outputs": [],
   "source": [
    "ne = frame.nelements\n",
    "ndof = frame.ndof\n",
    "EI = np.ones(ne)*E*I\n",
    "ES = np.ones(ne)*E*S\n",
    "f_x = 0*np.ones(7)\n",
    "f_y = 0*np.ones(7)\n",
    "frame.set_distributed_loads(f_x, f_y)\n",
    "frame.set_stiffness(EI, ES)\n",
    "blocked_dof = np.array([0, 1, 2, ndof-3, ndof-2, ndof-1])\n",
    "bc_values = np.array([0, 0, 0, 0, 0, 0])"
   ]
  },
  {
   "cell_type": "code",
   "execution_count": 34,
   "metadata": {
    "collapsed": false
   },
   "outputs": [
    {
     "data": {
      "text/plain": [
       "array([  0.00000000e+00,   0.00000000e+00,   0.00000000e+00,\n",
       "        -6.29467780e-17,  -2.30769231e-01,   1.02740472e-18,\n",
       "        -1.74759662e-16,  -5.38461538e-01,  -1.71294976e-18,\n",
       "        -1.84301087e-16,  -5.38461538e-01,  -4.59008729e-18,\n",
       "        -1.94273943e-16,  -5.38461538e-01,   6.44367590e-18,\n",
       "        -6.21930937e-17,  -2.30769231e-01,   7.71966980e-19,\n",
       "         0.00000000e+00,   0.00000000e+00,   0.00000000e+00])"
      ]
     },
     "execution_count": 34,
     "metadata": {},
     "output_type": "execute_result"
    }
   ],
   "source": [
    "K = frame.assemble_K()\n",
    "F=frame.assemble_F()\n",
    "#F[7]=F[7]-.5*EI[0]*np.pi**2/(Lyb+Lyh)**2\n",
    "#F[13]=F[13]-.5*EI[0]*np.pi**2/(Lyb+Lyh)**2\n",
    "F[7]=F[7]-1.\n",
    "F[13]=F[13]-1.\n",
    "Kbc, Fbc = frame.bc_apply(K, F, blocked_dof, bc_values)\n",
    "Usol = np.linalg.solve(Kbc,Fbc)\n",
    "Usol"
   ]
  },
  {
   "cell_type": "code",
   "execution_count": 35,
   "metadata": {
    "collapsed": true
   },
   "outputs": [],
   "source": [
    "frame.set_displacement(Usol)"
   ]
  },
  {
   "cell_type": "code",
   "execution_count": 36,
   "metadata": {
    "collapsed": false
   },
   "outputs": [],
   "source": [
    "Gbc=frame.assemble_G()\n",
    "G=frame.bc_apply_G(Gbc,blocked_dof)"
   ]
  },
  {
   "cell_type": "code",
   "execution_count": 37,
   "metadata": {
    "collapsed": false
   },
   "outputs": [
    {
     "name": "stdout",
     "output_type": "stream",
     "text": [
      "[  1.62612367   4.41193007   8.90251538  15.37359967  23.41273245\n",
      "  97.27902096]\n",
      "[  2.77555756e-17  -4.02546867e-46   5.55111512e-17  -1.99435709e-01\n",
      "   8.51288281e-02  -2.62078016e-02   4.98621157e+00   1.30890161e-01\n",
      "  -4.56213684e-02   4.98609326e+00   1.01036709e-02   1.63290397e-02\n",
      "   4.98597495e+00  -9.89447761e-02  -4.47676925e-02  -1.78164779e-01\n",
      "  -5.31834429e-02  -2.39053031e-02   5.55111512e-17   1.32191961e-46\n",
      "  -1.62897498e-46]\n"
     ]
    }
   ],
   "source": [
    "Ks = sparse.csr_matrix(K)\n",
    "Gs = sparse.csr_matrix(G)\n",
    "val, vect = linalg.eigsh(Ks, 6, Gs, which = 'LA', sigma =1.2)\n",
    "print(val)\n",
    "print(vect[:,0])"
   ]
  },
  {
   "cell_type": "code",
   "execution_count": 38,
   "metadata": {
    "collapsed": false
   },
   "outputs": [
    {
     "data": {
      "image/png": "[encoded data removed]",
      "text/plain": [
       "<matplotlib.figure.Figure at 0x7fc3009e3320>"
      ]
     },
     "metadata": {},
     "output_type": "display_data"
    }
   ],
   "source": [
    "frame.set_displacement(1*vect[:,0])\n",
    "frame.plot_with_label()\n",
    "frame.plot_displaced()"
   ]
  },
  {
   "cell_type": "markdown",
   "metadata": {
    "collapsed": true
   },
   "source": [
    "Structure croisée :"
   ]
  },
  {
   "cell_type": "code",
   "execution_count": 42,
   "metadata": {
    "collapsed": false
   },
   "outputs": [
    {
     "name": "stdout",
     "output_type": "stream",
     "text": [
      "Frame with\n",
      "9 elements\n",
      "7 nodes\n",
      "21 dofs\n"
     ]
    },
    {
     "data": {
      "image/png": "[encoded data removed]",
      "text/plain": [
       "<matplotlib.figure.Figure at 0x7fc300ce61d0>"
      ]
     },
     "metadata": {},
     "output_type": "display_data"
    }
   ],
   "source": [
    "nodes= np.array([[0.,0.],[0.,Lyb],[0.,Lyh+Lyb],[Lx/2,Lyh+Lyb],[Lx,Lyh+Lyb],[Lx,Lyb],[Lx,0.]])\n",
    "elements=np.array([[0,1],[1,5],[1,2],[2,3],[3,4],[4,5],[2,5],[0,5],[5,6]])\n",
    "\n",
    "frame= Frame_Buckling(nodes,elements)\n",
    "frame.plot_with_label()\n",
    "\n",
    "ne = frame.nelements\n",
    "ndof = frame.ndof\n",
    "EI = np.ones(ne)*E*I\n",
    "ES = np.ones(ne)*E*S\n",
    "f_x = 0*np.ones(ne)\n",
    "f_y = 0*np.ones(ne)\n",
    "frame.set_distributed_loads(f_x, f_y)\n",
    "frame.set_stiffness(EI, ES)\n",
    "blocked_dof = np.array([0, 1, 2, ndof-3, ndof-2, ndof-1])\n",
    "bc_values = np.array([0, 0, 0, 0, 0, 0])\n",
    "\n",
    "K = frame.assemble_K()\n",
    "F=frame.assemble_F()\n",
    "#F[7]=F[7]-.5*EI[0]*np.pi**2/(Lyb+Lyh)**2\n",
    "#F[13]=F[13]-.5*EI[0]*np.pi**2/(Lyb+Lyh)**2\n",
    "F[10]=F[10]-1.\n",
    "Kbc, Fbc = frame.bc_apply(K, F, blocked_dof, bc_values)\n",
    "Usol = np.linalg.solve(Kbc,Fbc)\n",
    "Usol\n",
    "\n",
    "frame.set_displacement(Usol)\n",
    "\n",
    "Gbc=frame.assemble_G()\n",
    "G=frame.bc_apply_G(Gbc,blocked_dof)"
   ]
  },
  {
   "cell_type": "code",
   "execution_count": 61,
   "metadata": {
    "collapsed": false
   },
   "outputs": [
    {
     "name": "stdout",
     "output_type": "stream",
     "text": [
      "[ 21.18128728  33.6874556   36.74038562]\n"
     ]
    },
    {
     "data": {
      "image/png": "[encoded data removed]",
      "text/plain": [
       "<matplotlib.figure.Figure at 0x7fc300996320>"
      ]
     },
     "metadata": {},
     "output_type": "display_data"
    }
   ],
   "source": [
    "Ks = sparse.csr_matrix(K)\n",
    "Gs = sparse.csr_matrix(G)\n",
    "val, vect = linalg.eigsh(Ks, 3, Gs, which = 'LA', sigma =9.)\n",
    "print(val)\n",
    "frame.set_displacement(1*vect[:,0])\n",
    "frame.plot_with_label()\n",
    "frame.plot_displaced()"
   ]
  },
  {
   "cell_type": "code",
   "execution_count": null,
   "metadata": {
    "collapsed": true
   },
   "outputs": [],
   "source": []
  },
  {
   "cell_type": "code",
   "execution_count": null,
   "metadata": {
    "collapsed": true
   },
   "outputs": [],
   "source": []
  }
 ],
 "metadata": {
  "kernelspec": {
   "display_name": "Python 3",
   "language": "python",
   "name": "python3"
  },
  "language_info": {
   "codemirror_mode": {
    "name": "ipython",
    "version": 3
   },
   "file_extension": ".py",
   "mimetype": "text/x-python",
   "name": "python",
   "nbconvert_exporter": "python",
   "pygments_lexer": "ipython3",
   "version": "3.4.3"
  }
 },
 "nbformat": 4,
 "nbformat_minor": 0
}
