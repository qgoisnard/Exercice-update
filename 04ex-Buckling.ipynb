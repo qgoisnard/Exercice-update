{
 "cells": [
  {
   "cell_type": "markdown",
   "metadata": {},
   "source": [
    "# Project on frame buckling"
   ]
  },
  {
   "cell_type": "markdown",
   "metadata": {},
   "source": [
    "1. Define a new class `Frame_Buckling` as a child of the class `LinearFrame` provided in `frame.py`. Add in this class methods to extract the **normal stress** $\\bar N_0$ in each bar and to assemble the *geometric stiffness* $G$.\n",
    "\n",
    "\n",
    "2. Solve the buckling problem for a simply supported straight beam using the `Frame_Buckling` class and compare with the analytical solution (see e.g. cours/TD 3A103) when using different number of element. \n",
    "\n",
    "\n",
    "\n",
    "3. Solve the buckling problem for the frame of the Exercise 2 in the notebook 02-LinearFrame. Compare with the experimental findings on the first buckling load and mode. Represent the first 2 buckling modes.\n",
    "\n",
    "\n",
    "\n",
    "4. Propose an improved geometry of the frame  of the Exercise 2 in the notebook 02-LinearFrame to increase the buckling load. Support your proposal with numerical results.\n",
    "\n",
    "\n",
    "(For classes in `python` you can look https://en.wikibooks.org/wiki/A_Beginner%27s_Python_Tutorial/Classes, for example)"
   ]
  },
  {
   "cell_type": "code",
   "execution_count": 148,
   "metadata": {
    "collapsed": true
   },
   "outputs": [],
   "source": [
    "%matplotlib inline  \n",
    "from sympy.interactive import printing\n",
    "printing.init_printing()\n",
    "from frame import *\n",
    "import sympy as sp\n",
    "import numpy as np\n",
    "import scipy.sparse as sparse\n",
    "import scipy.sparse.linalg as linalg"
   ]
  },
  {
   "cell_type": "code",
   "execution_count": 158,
   "metadata": {
    "collapsed": false
   },
   "outputs": [],
   "source": [
    "class Frame_Buckling(LinearFrame):\n",
    "\n",
    "    def N_local_stress(self,element):\n",
    "\n",
    "        \"\"\"\n",
    "        Returns the normal forces of an element.\n",
    "        \"\"\"\n",
    "        Ke= self.K_local()\n",
    "        Ue= self.U_e_local_coord(element)\n",
    "        F=Ke*Ue\n",
    "        N_local = F[3]\n",
    "        return N_local\n",
    "    \n",
    "    def N_local_stress_tot(self):\n",
    "\n",
    "        \"\"\"\n",
    "        Returns the normal force of all elements.\n",
    "        \"\"\"\n",
    "        Ns=[self.N_local_stress(e)for e in range (self.nelements)]\n",
    "        return Ns\n",
    "    \n",
    "    def G_local(self):\n",
    "        \"\"\"\n",
    "        Returns the global geometric stiffness matrix\n",
    "        \"\"\"\n",
    "        L = sp.Symbol('L')\n",
    "        s = sp.Symbol('s')\n",
    "        S=self.S()\n",
    "        Ge=sp.Matrix([[sp.integrate(S[1,i_local].diff(s)*S[1,j_local].diff(s),(s,0,L) )for i_local in range(6)] for j_local in range(6)]) \n",
    "        return Ge\n",
    "    \n",
    "    def G_local_rotated(self):\n",
    "        \"\"\"\n",
    "        Gives the analytical expression the local geometric stiffness matrix in the global coordinate system \n",
    "        as a function of the orientation angle alpha\n",
    "        \"\"\"\n",
    "        alpha = sp.Symbol(\"alpha\")\n",
    "        R = self.rotation_matrix(alpha)\n",
    "        Ge = R.transpose()*self.G_local()*R\n",
    "        return Ge\n",
    "    \n",
    "    def assemble_G(self):\n",
    "        \"\"\"\n",
    "        Returns the global stiffness matrix\n",
    "        \"\"\"\n",
    "        Ge = self.G_local_rotated()\n",
    "        G = np.zeros([self.ndof,self.ndof])\n",
    "        N0=self.N_local_stress_tot()\n",
    "        for e in range(self.nelements):\n",
    "            Gen = -N0[e].subs({'EI': self.EI[e], 'ES': self.ES[e], 'L': self.Ls[e], 'alpha': self.angles[e]})*Ge.subs({'EI': self.EI[e], 'ES': self.ES[e], 'L': self.Ls[e], 'alpha': self.angles[e]})\n",
    "            for i_local in range(6):\n",
    "                for j_local in range(6):\n",
    "                    G[self.dof_map(e, i_local),self.dof_map(e, j_local)] += Gen[i_local,j_local]\n",
    "        return G\n",
    "    \n",
    "    def bc_apply_G(self,G,blocked_dof,bc_values):\n",
    "        for (dof) in enumerate(blocked_dof): \n",
    "            Gbc = G \n",
    "            Gbc[dof, :] = 0\n",
    "            Gbc[:, dof] = 0\n",
    "            Gbc[dof, dof] = 1\n",
    "        return Gbc"
   ]
  },
  {
   "cell_type": "code",
   "execution_count": 180,
   "metadata": {
    "collapsed": true
   },
   "outputs": [],
   "source": [
    "def full_power_method(A, niterations_max=50, tol=1e-15):\n",
    "    xn = np.zeros((len(A), niterations_max+1))\n",
    "    xn[:, 0] = np.ones((len(A),)) + 1e-7*np.random.rand(len(A))\n",
    "    rn = np.ones((niterations_max+1,))\n",
    "    for k in range(niterations_max):\n",
    "        xn[:,k] = xn[:,k] / np.linalg.norm(xn[:,k])\n",
    "        xn[:,k+1] = np.dot(A, xn[:,k])\n",
    "        rn[k+1] = np.sum(xn[:,k+1])/np.sum(xn[:,k])\n",
    "        if (abs(rn[k+1]-rn[k]) < tol):\n",
    "            break\n",
    "    if k < niterations_max:\n",
    "        rn[k+2:] = rn[k+1] # This ensures the later values are set to something sensible.\n",
    "    return (rn[k+1], rn, xn[:,k+1]/ np.linalg.norm(xn[:,k+1]))\n",
    "\n",
    "def inverse_power_method(A, niterations_max=50, tol=1e-15):\n",
    "    xn = np.zeros((len(A), niterations_max+1))\n",
    "    xn[:, 0] = np.ones((len(A),)) + 1e-7*np.random.rand(len(A))\n",
    "    rn = np.ones((niterations_max+1,))\n",
    "    for k in range(niterations_max):\n",
    "        xn[:,k] = xn[:,k] / np.linalg.norm(xn[:,k])\n",
    "        xn[:,k+1] = np.linalg.solve(A, xn[:,k])\n",
    "        rn[k+1] = np.sum(xn[:,k+1])/np.sum(xn[:,k])\n",
    "        if (abs(rn[k+1]-rn[k]) < tol):\n",
    "            break\n",
    "    if k < niterations_max:\n",
    "        rn[k+2:] = rn[k+1] # This ensures the later values are set to something sensible.\n",
    "    return (1.0/rn[k+1], 1.0/rn, xn[:,k+1]/ np.linalg.norm(xn[:,k+1]))"
   ]
  },
  {
   "cell_type": "code",
   "execution_count": 181,
   "metadata": {
    "collapsed": true
   },
   "outputs": [],
   "source": [
    "E=1.3 #en MPa\n",
    "h=7.5 #en mm\n",
    "b=20. #en mm\n",
    "Lx=55. #en mm\n",
    "Lyh=60. #en mm\n",
    "Lyb=45. #en mm\n",
    "I=b*(h**3)/12 #en mm^4\n",
    "S=b*h  #en mm^2\n",
    "eps=10**(-3)\n",
    "g=9.81 #en m.s^(-2)\n",
    "m=1 #en kg"
   ]
  },
  {
   "cell_type": "code",
   "execution_count": 182,
   "metadata": {
    "collapsed": false
   },
   "outputs": [
    {
     "name": "stdout",
     "output_type": "stream",
     "text": [
      "Frame with\n",
      "4 elements\n",
      "5 nodes\n",
      "15 dofs\n"
     ]
    },
    {
     "data": {
      "text/plain": [
       "<matplotlib.axes._subplots.AxesSubplot at 0x7f98fcc58c88>"
      ]
     },
     "execution_count": 182,
     "metadata": {},
     "output_type": "execute_result"
    },
    {
     "data": {
      "image/png": "[encoded data removed]",
      "text/plain": [
       "<matplotlib.figure.Figure at 0x7f98fcc58e48>"
      ]
     },
     "metadata": {},
     "output_type": "display_data"
    }
   ],
   "source": [
    "n_elements = 4\n",
    "xnodes = np.linspace(0,1,n_elements + 1)\n",
    "ynodes = np.linspace(0,0,n_elements + 1)\n",
    "nodes = np.array([xnodes,ynodes]).transpose()\n",
    "n_nodes = xnodes.size\n",
    "elements=np.array([[0,1],[1,2],[2,3],[3,4]])\n",
    "\n",
    "frame= Frame_Buckling(nodes,elements)\n",
    "frame.plot_with_label()"
   ]
  },
  {
   "cell_type": "code",
   "execution_count": 183,
   "metadata": {
    "collapsed": true
   },
   "outputs": [],
   "source": [
    "ne = frame.nelements\n",
    "ndof = frame.ndof\n",
    "EI = np.ones(ne)*E*I\n",
    "ES = np.ones(ne)*E*S\n",
    "f_x = 0*np.ones(7)\n",
    "f_y = 0*np.ones(7)\n",
    "frame.set_distributed_loads(f_x, f_y)\n",
    "frame.set_stiffness(EI, ES)\n",
    "blocked_dof = np.array([0, 1, ndof-2])\n",
    "bc_values = np.array([0, 0, 0])"
   ]
  },
  {
   "cell_type": "code",
   "execution_count": 184,
   "metadata": {
    "collapsed": false
   },
   "outputs": [
    {
     "data": {
      "text/plain": [
       "array([  0.        ,   0.        ,   0.        ,  -5.78297133,\n",
       "         0.        ,   0.        , -11.56594266,   0.        ,\n",
       "         0.        , -17.34891399,   0.        ,   0.        ,\n",
       "       -23.13188532,   0.        ,   0.        ])"
      ]
     },
     "execution_count": 184,
     "metadata": {},
     "output_type": "execute_result"
    }
   ],
   "source": [
    "K = frame.assemble_K()\n",
    "F=frame.assemble_F()\n",
    "F[12]=F[12]-.5*EI[0]*np.pi**2\n",
    "Kbc, Fbc = frame.bc_apply(K, F, blocked_dof, bc_values)\n",
    "Usol = np.linalg.solve(Kbc,Fbc)\n",
    "Usol"
   ]
  },
  {
   "cell_type": "code",
   "execution_count": 185,
   "metadata": {
    "collapsed": false
   },
   "outputs": [
    {
     "data": {
      "image/png": "[encoded data removed]",
      "text/plain": [
       "<matplotlib.figure.Figure at 0x7f98f5cbd940>"
      ]
     },
     "metadata": {},
     "output_type": "display_data"
    }
   ],
   "source": [
    "frame.set_displacement(Usol)\n",
    "frame.plot_with_label()\n",
    "frame.plot_displaced()"
   ]
  },
  {
   "cell_type": "code",
   "execution_count": 186,
   "metadata": {
    "collapsed": false
   },
   "outputs": [],
   "source": [
    "Gbc=frame.assemble_G()\n",
    "G=frame.bc_apply_G(Gbc,blocked_dof,bc_values)"
   ]
  },
  {
   "cell_type": "code",
   "execution_count": 187,
   "metadata": {
    "collapsed": false
   },
   "outputs": [
    {
     "name": "stdout",
     "output_type": "stream",
     "text": [
      "[  1.90990929   8.06320329  19.46915997  42.88231458  74.18298925]\n"
     ]
    }
   ],
   "source": [
    "Ks = sparse.csr_matrix(K)\n",
    "Gs = sparse.csr_matrix(G)\n",
    "val, vect = linalg.eigsh(Ks, 5, Gs, which = 'LA', sigma = 1.6)\n",
    "print(val)"
   ]
  },
  {
   "cell_type": "code",
   "execution_count": 188,
   "metadata": {
    "collapsed": false
   },
   "outputs": [
    {
     "data": {
      "image/png": "[encoded data removed]",
      "text/plain": [
       "<matplotlib.figure.Figure at 0x7f98f5adb9b0>"
      ]
     },
     "metadata": {},
     "output_type": "display_data"
    }
   ],
   "source": [
    "frame.set_displacement(10*vect[:,0])\n",
    "frame.plot_with_label()\n",
    "frame.plot_displaced()"
   ]
  },
  {
   "cell_type": "markdown",
   "metadata": {},
   "source": [
    "## Essai sur exercice 2"
   ]
  },
  {
   "cell_type": "code",
   "execution_count": 189,
   "metadata": {
    "collapsed": true
   },
   "outputs": [],
   "source": [
    "E=1.3 #en MPa\n",
    "h=7.5 #en mm\n",
    "b=20. #en mm\n",
    "Lx=55. #en mm\n",
    "Lyh=60. #en mm\n",
    "Lyb=45. #en mm\n",
    "I=b*(h**3)/12 #en mm^4\n",
    "S=b*h  #en mm^2\n",
    "eps=10**(-3)\n",
    "g=9.81 #en m.s^(-2)\n",
    "m=0.05 #en kg"
   ]
  },
  {
   "cell_type": "code",
   "execution_count": 190,
   "metadata": {
    "collapsed": false
   },
   "outputs": [
    {
     "name": "stdout",
     "output_type": "stream",
     "text": [
      "Frame with\n",
      "7 elements\n",
      "7 nodes\n",
      "21 dofs\n"
     ]
    },
    {
     "data": {
      "text/plain": [
       "<matplotlib.axes._subplots.AxesSubplot at 0x7f98f59cf080>"
      ]
     },
     "execution_count": 190,
     "metadata": {},
     "output_type": "execute_result"
    },
    {
     "data": {
      "image/png": "[encoded data removed]",
      "text/plain": [
       "<matplotlib.figure.Figure at 0x7f98f5978908>"
      ]
     },
     "metadata": {},
     "output_type": "display_data"
    }
   ],
   "source": [
    "nodes= np.array([[0.,0.],[0.,Lyb],[0.,Lyh+Lyb],[Lx/2,Lyh+Lyb],[Lx,Lyh+Lyb],[Lx,Lyb],[Lx,0.]])\n",
    "elements=np.array([[0,1],[1,5],[1,2],[2,3],[3,4],[4,5],[5,6]])\n",
    "\n",
    "frame= Frame_Buckling(nodes,elements)\n",
    "frame.plot_with_label()"
   ]
  },
  {
   "cell_type": "code",
   "execution_count": 301,
   "metadata": {
    "collapsed": false
   },
   "outputs": [],
   "source": [
    "ne = frame.nelements\n",
    "ndof = frame.ndof\n",
    "EI = np.ones(ne)*E*I\n",
    "ES = np.ones(ne)*E*S\n",
    "EI[1]=100*E*I;EI[3]=100*E*I;EI[4]=100*E*I\n",
    "ES[1]=100*E*S;ES[3]=100*E*S;ES[4]=100*E*S\n",
    "f_x = 0*np.ones(7)\n",
    "f_y = 0*np.ones(7)\n",
    "frame.set_distributed_loads(f_x, f_y)\n",
    "frame.set_stiffness(EI, ES)\n",
    "blocked_dof = np.array([0, 1, 2, ndof-3, ndof-2, ndof-1])\n",
    "bc_values = np.array([0, 0, 0, 0, 0, 0])"
   ]
  },
  {
   "cell_type": "code",
   "execution_count": 361,
   "metadata": {
    "collapsed": false,
    "scrolled": true
   },
   "outputs": [
    {
     "data": {
      "text/plain": [
       "array([  0.00000000e+00,   0.00000000e+00,   0.00000000e+00,\n",
       "        -6.18976176e-06,  -1.62592545e-01,   2.51615522e-05,\n",
       "         6.09470934e-06,  -3.79382604e-01,  -2.86238120e-03,\n",
       "        -1.13965114e-15,  -4.32099029e-01,   1.77002455e-17,\n",
       "        -6.09470934e-06,  -3.79382604e-01,   2.86238120e-03,\n",
       "         6.18976176e-06,  -1.62592545e-01,  -2.51615522e-05,\n",
       "         0.00000000e+00,   0.00000000e+00,   0.00000000e+00])"
      ]
     },
     "execution_count": 361,
     "metadata": {},
     "output_type": "execute_result"
    }
   ],
   "source": [
    "K = frame.assemble_K()\n",
    "F=frame.assemble_F()\n",
    "F[10]=F[10]-.5*EI[0]*np.pi**2/(Lyb+Lyh)**2\n",
    "F[10]=F[10]-1\n",
    "Kbc, Fbc = frame.bc_apply(K, F, blocked_dof, bc_values)\n",
    "Usol = np.linalg.solve(Kbc,Fbc)\n",
    "Usol"
   ]
  },
  {
   "cell_type": "code",
   "execution_count": 362,
   "metadata": {
    "collapsed": false
   },
   "outputs": [],
   "source": [
    "frame.set_displacement(Usol)"
   ]
  },
  {
   "cell_type": "code",
   "execution_count": 363,
   "metadata": {
    "collapsed": false
   },
   "outputs": [],
   "source": [
    "Ge=frame.N_local_stress_tot()"
   ]
  },
  {
   "cell_type": "code",
   "execution_count": 364,
   "metadata": {
    "collapsed": false
   },
   "outputs": [],
   "source": [
    "Gbc=frame.assemble_G()\n",
    "G=frame.bc_apply_G(Gbc,blocked_dof,bc_values)"
   ]
  },
  {
   "cell_type": "code",
   "execution_count": 365,
   "metadata": {
    "collapsed": false
   },
   "outputs": [
    {
     "name": "stdout",
     "output_type": "stream",
     "text": [
      "[   3.24561362    4.69552602  301.24173277]\n",
      "[ -1.47698107e-17  -1.28957217e-17  -1.26876421e-17   9.68970660e-02\n",
      "  -4.08661851e-01   1.00343494e-02  -5.43587382e+00  -4.79404354e-01\n",
      "   1.25098671e-02  -5.43587504e+00  -1.52925338e-01   1.15508637e-02\n",
      "  -5.43587627e+00   1.73317475e-01   1.24926887e-02   9.68151746e-02\n",
      "   1.02574972e-01   9.73972341e-03   5.79754728e-17   2.41984727e-18\n",
      "  -2.77574986e-18]\n"
     ]
    }
   ],
   "source": [
    "Ks = sparse.csr_matrix(K)\n",
    "Gs = sparse.csr_matrix(G)\n",
    "val, vect = linalg.eigsh(Ks, 3, Gs, which = 'LA', sigma = 3.)\n",
    "print(val)\n",
    "print(vect[:,0])\n"
   ]
  },
  {
   "cell_type": "code",
   "execution_count": 367,
   "metadata": {
    "collapsed": false
   },
   "outputs": [
    {
     "data": {
      "image/png": "[encoded data removed]",
      "text/plain": [
       "<matplotlib.figure.Figure at 0x7f98f5b457b8>"
      ]
     },
     "metadata": {},
     "output_type": "display_data"
    }
   ],
   "source": [
    "frame.set_displacement(1*vect[:,0])\n",
    "frame.plot_with_label()\n",
    "frame.plot_displaced()"
   ]
  },
  {
   "cell_type": "code",
   "execution_count": null,
   "metadata": {
    "collapsed": true
   },
   "outputs": [],
   "source": []
  }
 ],
 "metadata": {
  "kernelspec": {
   "display_name": "Python 3",
   "language": "python",
   "name": "python3"
  },
  "language_info": {
   "codemirror_mode": {
    "name": "ipython",
    "version": 3
   },
   "file_extension": ".py",
   "mimetype": "text/x-python",
   "name": "python",
   "nbconvert_exporter": "python",
   "pygments_lexer": "ipython3",
   "version": "3.4.3"
  }
 },
 "nbformat": 4,
 "nbformat_minor": 0
}
