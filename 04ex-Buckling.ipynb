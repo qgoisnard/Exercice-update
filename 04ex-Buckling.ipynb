{
 "cells": [
  {
   "cell_type": "markdown",
   "metadata": {},
   "source": [
    "# Project on frame buckling"
   ]
  },
  {
   "cell_type": "markdown",
   "metadata": {},
   "source": [
    "1. Define a new class `Frame_Buckling` as a child of the class `LinearFrame` provided in `frame.py`. Add in this class methods to extract the **normal stress** $\\bar N_0$ in each bar and to assemble the *geometric stiffness* $G$.\n",
    "\n",
    "\n",
    "2. Solve the buckling problem for a simply supported straight beam using the `Frame_Buckling` class and compare with the analytical solution (see e.g. cours/TD 3A103) when using different number of element. \n",
    "\n",
    "\n",
    "\n",
    "3. Solve the buckling problem for the frame of the Exercise 2 in the notebook 02-LinearFrame. Compare with the experimental findings on the first buckling load and mode. Represent the first 2 buckling modes.\n",
    "\n",
    "\n",
    "\n",
    "4. Propose an improved geometry of the frame  of the Exercise 2 in the notebook 02-LinearFrame to increase the buckling load. Support your proposal with numerical results.\n",
    "\n",
    "\n",
    "(For classes in `python` you can look https://en.wikibooks.org/wiki/A_Beginner%27s_Python_Tutorial/Classes, for example)"
   ]
  },
  {
   "cell_type": "code",
   "execution_count": 2,
   "metadata": {
    "collapsed": true
   },
   "outputs": [],
   "source": [
    "%matplotlib inline  \n",
    "from sympy.interactive import printing\n",
    "printing.init_printing()\n",
    "from frame import *\n",
    "import sympy as sp\n",
    "import numpy as np"
   ]
  },
  {
   "cell_type": "code",
   "execution_count": 3,
   "metadata": {
    "collapsed": false
   },
   "outputs": [],
   "source": [
    "class Frame_Buckling(LinearFrame):\n",
    "\n",
    "    def N_local_stress(self,element):\n",
    "\n",
    "        \"\"\"\n",
    "        Returns the normal forces of an element.\n",
    "        \"\"\"\n",
    "        Ke= self.K_local()\n",
    "        Ue= self.U_e_local_coord(element)\n",
    "        F=Ke*Ue\n",
    "        N_local = F[3]\n",
    "        return N_local\n",
    "    \n",
    "    def find_T_local(self,element):\n",
    "        \"\"\"\n",
    "        Returns the tangential forces of an element.\n",
    "        \"\"\"\n",
    "        Ke= self.K_local()\n",
    "        Ue= self.U_e_local_coord(element)\n",
    "        F=np.dot(Ke,Ue)\n",
    "        T_local = F[4]\n",
    "        return T_local\n",
    "    \n",
    "    def find_M_local(self,element):\n",
    "        \"\"\"\n",
    "        Returns the moments of an element.\n",
    "        \"\"\"\n",
    "        Ke= self.K_local()\n",
    "        Ue= self.U_e_local_coord(element)\n",
    "        F=np.dot(Ke,Ue)\n",
    "        M_local = F[5]\n",
    "        return M_local\n",
    "    \n",
    "    def N_local_stress_tot(self):\n",
    "\n",
    "        \"\"\"\n",
    "        Returns the normal force of all elements.\n",
    "        \"\"\"\n",
    "        N_local=np.zeros([self.nelements])\n",
    "        for e in range(self.nelements):\n",
    "            Ke= self.K_local()\n",
    "            Ue= self.U_e_local_coord(e)\n",
    "            F=np.matrix(Ke)*np.array(Ue)\n",
    "            N_local[e]= F[3]\n",
    "        return N_local\n",
    "    \n",
    "    def G_local(self):\n",
    "        \"\"\"\n",
    "        Returns the global geometric stiffness matrix\n",
    "        \"\"\"\n",
    "        L = sp.Symbol('L')\n",
    "        s = sp.Symbol('s')\n",
    "        S=self.S()\n",
    "        Ge=sp.Matrix([[sp.integrate(S[1,i_local].diff(s)*S[1,j_local].diff(s),(s,0,L) )for i_local in range(6)] for j_local in range(6)]) \n",
    "        return Ge\n",
    "    \n",
    "    def G_local_rotated(self):\n",
    "        \"\"\"\n",
    "        Gives the analytical expression the local geometric stiffness matrix in the global coordinate system \n",
    "        as a function of the orientation angle alpha\n",
    "        \"\"\"\n",
    "        alpha = sp.Symbol(\"alpha\")\n",
    "        R = self.rotation_matrix(alpha)\n",
    "        Ge = R.transpose()*self.G_local()*R\n",
    "        return Ge\n",
    "    \n",
    "    def assemble_G(self):\n",
    "        \"\"\"\n",
    "        Returns the global stiffness matrix\n",
    "        \"\"\"\n",
    "        Ge = self.G_local_rotated()\n",
    "        G = np.zeros([self.ndof,self.ndof])\n",
    "        N0=self.N_local_stress_tot()\n",
    "        # add rotation\n",
    "        for e in range(self.nelements):\n",
    "            Gen = -N0[e]*np.array(Ge.subs({ 'L': self.Ls[e], 'alpha': self.angles[e]}))\n",
    "            for i_local in range(6):\n",
    "                for j_local in range(6):\n",
    "                    G[self.dof_map(e, i_local),self.dof_map(e, j_local)] += Gen[i_local,j_local]\n",
    "        return G"
   ]
  },
  {
   "cell_type": "code",
   "execution_count": 4,
   "metadata": {
    "collapsed": true
   },
   "outputs": [],
   "source": [
    "E=1.3 #en MPa\n",
    "h=7.5 #en mm\n",
    "b=20. #en mm\n",
    "Lx=55. #en mm\n",
    "Lyh=60. #en mm\n",
    "Lyb=45. #en mm\n",
    "I=b*(h**3)/12 #en mm^4\n",
    "S=b*h  #en mm^2\n",
    "eps=10**(-3)\n",
    "g=9.81\n",
    "m=0.05"
   ]
  },
  {
   "cell_type": "code",
   "execution_count": 5,
   "metadata": {
    "collapsed": false
   },
   "outputs": [
    {
     "name": "stdout",
     "output_type": "stream",
     "text": [
      "Frame with\n",
      "7 elements\n",
      "7 nodes\n",
      "21 dofs\n"
     ]
    },
    {
     "data": {
      "text/plain": [
       "<matplotlib.axes._subplots.AxesSubplot at 0x393bc88>"
      ]
     },
     "execution_count": 5,
     "metadata": {},
     "output_type": "execute_result"
    },
    {
     "data": {
      "image/png": "[encoded data removed]",
      "text/plain": [
       "<matplotlib.figure.Figure at 0x7aaefd0>"
      ]
     },
     "metadata": {},
     "output_type": "display_data"
    }
   ],
   "source": [
    "nodes= np.array([[0.,0.],[0.,Lyb],[0.,Lyh+Lyb],[Lx/2,Lyh+Lyb],[Lx,Lyh+Lyb],[Lx,Lyb],[Lx,0.]])\n",
    "elements=np.array([[0,1],[1,5],[1,2],[2,3],[3,4],[4,5],[5,6]])\n",
    "\n",
    "frame= Frame_Buckling(nodes,elements)\n",
    "frame.plot_with_label()"
   ]
  },
  {
   "cell_type": "code",
   "execution_count": 6,
   "metadata": {
    "collapsed": true
   },
   "outputs": [],
   "source": [
    "ne = frame.nelements\n",
    "ndof = frame.ndof\n",
    "EI = np.ones(ne)*E*I\n",
    "ES = np.ones(ne)*E*S\n",
    "f_x = 0*np.ones(7)\n",
    "f_y = 0*np.ones(7)\n",
    "frame.set_distributed_loads(f_x, f_y)\n",
    "frame.set_stiffness(EI, ES)\n",
    "blocked_dof = np.array([0, 1, 2, ndof-3, ndof-2, ndof-1])\n",
    "bc_values = np.array([0, 0, 0, 0, 0, 0])"
   ]
  },
  {
   "cell_type": "code",
   "execution_count": 7,
   "metadata": {
    "collapsed": false
   },
   "outputs": [
    {
     "data": {
      "text/plain": [
       "array([  0.00000000e+00,   0.00000000e+00,   0.00000000e+00,\n",
       "        -9.05234017e-03,  -5.65961538e-02,   6.63963901e-03,\n",
       "         6.67003320e-03,  -1.32057692e-01,  -3.82096908e-02,\n",
       "         6.49441927e-16,  -1.12243774e+00,  -1.42632649e-19,\n",
       "        -6.67003320e-03,  -1.32057692e-01,   3.82096908e-02,\n",
       "         9.05234017e-03,  -5.65961538e-02,  -6.63963901e-03,\n",
       "         0.00000000e+00,   0.00000000e+00,   0.00000000e+00])"
      ]
     },
     "execution_count": 7,
     "metadata": {},
     "output_type": "execute_result"
    }
   ],
   "source": [
    "K = frame.assemble_K()\n",
    "F=frame.assemble_F()\n",
    "F[10]=F[10]-m*g\n",
    "Kbc, Fbc = frame.bc_apply(K, F, blocked_dof, bc_values)\n",
    "Usol = np.linalg.solve(Kbc,Fbc)\n",
    "Usol"
   ]
  },
  {
   "cell_type": "code",
   "execution_count": 20,
   "metadata": {
    "collapsed": false
   },
   "outputs": [
    {
     "name": "stdout",
     "output_type": "stream",
     "text": [
      "Matrix([[ES/L, 0, 0, -ES/L, 0, 0], [0, 12*EI/L**3, 6*EI/L**2, 0, -12*EI/L**3, 6*EI/L**2], [0, 6*EI/L**2, 4*EI/L, 0, -6*EI/L**2, 2*EI/L], [-ES/L, 0, 0, ES/L, 0, 0], [0, -12*EI/L**3, -6*EI/L**2, 0, 12*EI/L**3, -6*EI/L**2], [0, 6*EI/L**2, 2*EI/L, 0, -6*EI/L**2, 4*EI/L]])\n",
      "Matrix([[0], [0], [0], [0], [0], [0]])\n",
      "-1.57079632679\n"
     ]
    }
   ],
   "source": [
    "Nloc=frame.N_local_stress_tot()\n",
    "Nloc\n",
    "Ke= frame.K_local()\n",
    "Ue= frame.U_e_local_coord(6)\n",
    "A=frame.angle(6)\n",
    "print(Ke)\n",
    "print(Ue)\n",
    "print(A)"
   ]
  },
  {
   "cell_type": "code",
   "execution_count": 9,
   "metadata": {
    "collapsed": false
   },
   "outputs": [
    {
     "name": "stdout",
     "output_type": "stream",
     "text": [
      "Matrix([[0, 0, 0, 0, 0, 0], [0, 6/(5*L), 1/10, 0, -6/(5*L), 1/10], [0, 1/10, 2*L/15, 0, -1/10, -L/30], [0, 0, 0, 0, 0, 0], [0, -6/(5*L), -1/10, 0, 6/(5*L), -1/10], [0, 1/10, -L/30, 0, -1/10, 2*L/15]])\n"
     ]
    }
   ],
   "source": [
    "Ge=frame.G_local()\n",
    "print(Ge)"
   ]
  },
  {
   "cell_type": "code",
   "execution_count": 10,
   "metadata": {
    "collapsed": false
   },
   "outputs": [
    {
     "data": {
      "text/plain": [
       "array([[ 0.,  0.,  0.,  0.,  0.,  0.,  0.,  0.,  0.,  0.,  0.,  0.,  0.,\n",
       "         0.,  0.,  0.,  0.,  0.,  0.,  0.,  0.],\n",
       "       [ 0.,  0.,  0.,  0.,  0.,  0.,  0.,  0.,  0.,  0.,  0.,  0.,  0.,\n",
       "         0.,  0.,  0.,  0.,  0.,  0.,  0.,  0.],\n",
       "       [ 0.,  0.,  0.,  0.,  0.,  0.,  0.,  0.,  0.,  0.,  0.,  0.,  0.,\n",
       "         0.,  0.,  0.,  0.,  0.,  0.,  0.,  0.],\n",
       "       [ 0.,  0.,  0.,  0.,  0.,  0.,  0.,  0.,  0.,  0.,  0.,  0.,  0.,\n",
       "         0.,  0.,  0.,  0.,  0.,  0.,  0.,  0.],\n",
       "       [ 0.,  0.,  0.,  0.,  0.,  0.,  0.,  0.,  0.,  0.,  0.,  0.,  0.,\n",
       "         0.,  0.,  0.,  0.,  0.,  0.,  0.,  0.],\n",
       "       [ 0.,  0.,  0.,  0.,  0.,  0.,  0.,  0.,  0.,  0.,  0.,  0.,  0.,\n",
       "         0.,  0.,  0.,  0.,  0.,  0.,  0.,  0.],\n",
       "       [ 0.,  0.,  0.,  0.,  0.,  0.,  0.,  0.,  0.,  0.,  0.,  0.,  0.,\n",
       "         0.,  0.,  0.,  0.,  0.,  0.,  0.,  0.],\n",
       "       [ 0.,  0.,  0.,  0.,  0.,  0.,  0.,  0.,  0.,  0.,  0.,  0.,  0.,\n",
       "         0.,  0.,  0.,  0.,  0.,  0.,  0.,  0.],\n",
       "       [ 0.,  0.,  0.,  0.,  0.,  0.,  0.,  0.,  0.,  0.,  0.,  0.,  0.,\n",
       "         0.,  0.,  0.,  0.,  0.,  0.,  0.,  0.],\n",
       "       [ 0.,  0.,  0.,  0.,  0.,  0.,  0.,  0.,  0.,  0.,  0.,  0.,  0.,\n",
       "         0.,  0.,  0.,  0.,  0.,  0.,  0.,  0.],\n",
       "       [ 0.,  0.,  0.,  0.,  0.,  0.,  0.,  0.,  0.,  0.,  0.,  0.,  0.,\n",
       "         0.,  0.,  0.,  0.,  0.,  0.,  0.,  0.],\n",
       "       [ 0.,  0.,  0.,  0.,  0.,  0.,  0.,  0.,  0.,  0.,  0.,  0.,  0.,\n",
       "         0.,  0.,  0.,  0.,  0.,  0.,  0.,  0.],\n",
       "       [ 0.,  0.,  0.,  0.,  0.,  0.,  0.,  0.,  0.,  0.,  0.,  0.,  0.,\n",
       "         0.,  0.,  0.,  0.,  0.,  0.,  0.,  0.],\n",
       "       [ 0.,  0.,  0.,  0.,  0.,  0.,  0.,  0.,  0.,  0.,  0.,  0.,  0.,\n",
       "         0.,  0.,  0.,  0.,  0.,  0.,  0.,  0.],\n",
       "       [ 0.,  0.,  0.,  0.,  0.,  0.,  0.,  0.,  0.,  0.,  0.,  0.,  0.,\n",
       "         0.,  0.,  0.,  0.,  0.,  0.,  0.,  0.],\n",
       "       [ 0.,  0.,  0.,  0.,  0.,  0.,  0.,  0.,  0.,  0.,  0.,  0.,  0.,\n",
       "         0.,  0.,  0.,  0.,  0.,  0.,  0.,  0.],\n",
       "       [ 0.,  0.,  0.,  0.,  0.,  0.,  0.,  0.,  0.,  0.,  0.,  0.,  0.,\n",
       "         0.,  0.,  0.,  0.,  0.,  0.,  0.,  0.],\n",
       "       [ 0.,  0.,  0.,  0.,  0.,  0.,  0.,  0.,  0.,  0.,  0.,  0.,  0.,\n",
       "         0.,  0.,  0.,  0.,  0.,  0.,  0.,  0.],\n",
       "       [ 0.,  0.,  0.,  0.,  0.,  0.,  0.,  0.,  0.,  0.,  0.,  0.,  0.,\n",
       "         0.,  0.,  0.,  0.,  0.,  0.,  0.,  0.],\n",
       "       [ 0.,  0.,  0.,  0.,  0.,  0.,  0.,  0.,  0.,  0.,  0.,  0.,  0.,\n",
       "         0.,  0.,  0.,  0.,  0.,  0.,  0.,  0.],\n",
       "       [ 0.,  0.,  0.,  0.,  0.,  0.,  0.,  0.,  0.,  0.,  0.,  0.,  0.,\n",
       "         0.,  0.,  0.,  0.,  0.,  0.,  0.,  0.]])"
      ]
     },
     "execution_count": 10,
     "metadata": {},
     "output_type": "execute_result"
    }
   ],
   "source": [
    "G=frame.assemble_G()\n",
    "G"
   ]
  },
  {
   "cell_type": "code",
   "execution_count": null,
   "metadata": {
    "collapsed": true
   },
   "outputs": [],
   "source": []
  },
  {
   "cell_type": "code",
   "execution_count": null,
   "metadata": {
    "collapsed": true
   },
   "outputs": [],
   "source": []
  }
 ],
 "metadata": {
  "kernelspec": {
   "display_name": "Python 2",
   "language": "python",
   "name": "python2"
  },
  "language_info": {
   "codemirror_mode": {
    "name": "ipython",
    "version": 2
   },
   "file_extension": ".py",
   "mimetype": "text/x-python",
   "name": "python",
   "nbconvert_exporter": "python",
   "pygments_lexer": "ipython2",
   "version": "2.7.11"
  }
 },
 "nbformat": 4,
 "nbformat_minor": 0
}
