{
 "cells": [
  {
   "cell_type": "markdown",
   "metadata": {},
   "source": [
    "# Exercice 1"
   ]
  },
  {
   "cell_type": "markdown",
   "metadata": {},
   "source": [
    "Build up your own python program to solve a beam with an arbritary number of elements and arbritary loading. Do it either in a text file (`.py`) or in a new jupyther notebook. You can use object-oriented programming, as suggested below.\n",
    "\n",
    "In particular, test your program on a clamped-clamped beam submitted ot a uniform transverse load $\\underline f(s)=-p\\underline e_2$. It can be shown (see the class of Structural Mechanics) that the analytical solution for the transverse displacement is \n",
    "$$\n",
    "v(s) = \\dfrac{p s^2}{24EI}(L-s)^2\n",
    "$$\n",
    "Compare the numerical solution against this analytical solution when using $n=5$, $n=10$, $n=20$, $n=100$ elements"
   ]
  },
  {
   "cell_type": "markdown",
   "metadata": {
    "collapsed": false
   },
   "source": [
    "You find below an example to start a `Frame` class. The example include geometry and visualization features. You should add the *methods* (*i.e.* the functions of the class) to assemble `K`, `F`, impose bcs and solve the system.\n",
    "\n",
    "Once done, test the solution for a cantilever beam under its own weigth. Compare againt the analytical solution"
   ]
  },
  {
   "cell_type": "markdown",
   "metadata": {},
   "source": [
    "# Exercice 2\n",
    "\n",
    "Extend the `Frame` class by including the case of beam segments with several orientations. Look also at the reference in the Syllabus. Test on examples"
   ]
  }
 ],
 "metadata": {
  "kernelspec": {
   "display_name": "Python 2",
   "language": "python",
   "name": "python2"
  },
  "language_info": {
   "codemirror_mode": {
    "name": "ipython",
    "version": 2
   },
   "file_extension": ".py",
   "mimetype": "text/x-python",
   "name": "python",
   "nbconvert_exporter": "python",
   "pygments_lexer": "ipython2",
   "version": "2.7.10"
  }
 },
 "nbformat": 4,
 "nbformat_minor": 0
}
