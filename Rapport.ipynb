{
 "cells": [
  {
   "cell_type": "markdown",
   "metadata": {},
   "source": [
    "# Rapport"
   ]
  },
  {
   "cell_type": "markdown",
   "metadata": {},
   "source": [
    "ETAPES:\n",
    "\n",
    "a)Partie analyse lineaire:\n",
    "\n",
    "    1-discrétisation de la structure \n",
    "    2-création des matrices K  et F\n",
    "    3-mise en place des conditions aux limites\n",
    "    4-resolution de K*U=F => obtention de U\n",
    "\n",
    "b)Partie analyse du flambage \n",
    "\n",
    "    1-construction de la matrice G\n",
    "    2-resolution de l'equation (K-lambda*G)*U=0 grace à la méthode puissance itérée \n",
    "    => obtention de lambda\n",
    "    3-Vérification de notre coefficient lambda"
   ]
  },
  {
   "cell_type": "markdown",
   "metadata": {},
   "source": [
    "Dans un premier temps, on a créé un modèle de notre structure en la discrétisant.\n",
    "\n",
    "Nous avons par un cas simple, soit une poutre.\n",
    "    \n",
    "Nous avons décomposé une poutre en $n_{e}$ segments. Elle est constituée d'**éléments**, separés par $n$ **noeuds** avec pour coordonnées $\\{(x_I,y_I)\\}_{I=1}^{n}$.\n",
    "\n",
    "Nous avons ensuite appliqué cette discrétisation à une structure plus complexe, le portique."
   ]
  },
  {
   "cell_type": "markdown",
   "metadata": {},
   "source": []
  },
  {
   "cell_type": "code",
   "execution_count": null,
   "metadata": {
    "collapsed": true
   },
   "outputs": [],
   "source": []
  }
 ],
 "metadata": {
  "kernelspec": {
   "display_name": "Python 3",
   "language": "python",
   "name": "python3"
  },
  "language_info": {
   "codemirror_mode": {
    "name": "ipython",
    "version": 3
   },
   "file_extension": ".py",
   "mimetype": "text/x-python",
   "name": "python",
   "nbconvert_exporter": "python",
   "pygments_lexer": "ipython3",
   "version": "3.4.3"
  }
 },
 "nbformat": 4,
 "nbformat_minor": 0
}
