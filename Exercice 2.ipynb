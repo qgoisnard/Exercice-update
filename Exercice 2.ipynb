{
 "cells": [
  {
   "cell_type": "markdown",
   "metadata": {},
   "source": [
    "# Exercice 2"
   ]
  },
  {
   "cell_type": "code",
   "execution_count": 1,
   "metadata": {
    "collapsed": true
   },
   "outputs": [],
   "source": [
    "%matplotlib inline  \n",
    "from sympy.interactive import printing\n",
    "printing.init_printing()\n",
    "from frame import *\n",
    "import sympy as sp\n",
    "import numpy as np"
   ]
  },
  {
   "cell_type": "markdown",
   "metadata": {},
   "source": [
    "Nous allons initialiser les differentes valeurs :"
   ]
  },
  {
   "cell_type": "code",
   "execution_count": 10,
   "metadata": {
    "collapsed": true
   },
   "outputs": [],
   "source": [
    "E=1.3 #en MPa\n",
    "h=7.5 #en mm\n",
    "b=20. #en mm\n",
    "Lx=55. #en mm\n",
    "Lyh=60. #en mm\n",
    "Lyb=45 #en mm\n",
    "I=b*(h**3)/12 #en mm^4\n",
    "S=b*h  #en mm^2\n",
    "eps=10**(-3)\n",
    "g=9.81"
   ]
  },
  {
   "cell_type": "markdown",
   "metadata": {},
   "source": [
    "Nous allons maintenant créer les noeuds et les éléments de la structure :"
   ]
  },
  {
   "cell_type": "code",
   "execution_count": 11,
   "metadata": {
    "collapsed": false
   },
   "outputs": [
    {
     "name": "stdout",
     "output_type": "stream",
     "text": [
      "Frame with\n",
      "7 elements\n",
      "7 nodes\n",
      "21 dofs\n"
     ]
    },
    {
     "data": {
      "text/plain": [
       "<matplotlib.axes._subplots.AxesSubplot at 0x8443b38>"
      ]
     },
     "execution_count": 11,
     "metadata": {},
     "output_type": "execute_result"
    },
    {
     "data": {
      "image/png": "[encoded data removed]",
      "text/plain": [
       "<matplotlib.figure.Figure at 0x80d9f60>"
      ]
     },
     "metadata": {},
     "output_type": "display_data"
    }
   ],
   "source": [
    "nodes= np.array([[0.,0.],[0.,Lyb],[0.,Lyh+Lyb],[Lx/2,Lyh+Lyb],[Lx,Lyh+Lyb],[Lx,Lyb],[Lx,0.]])\n",
    "elements=np.array([[0,1],[1,5],[1,2],[2,3],[3,4],[4,5],[5,6]])\n",
    "\n",
    "frame=LinearFrame(nodes,elements)\n",
    "frame.plot_with_label()"
   ]
  },
  {
   "cell_type": "code",
   "execution_count": 12,
   "metadata": {
    "collapsed": true
   },
   "outputs": [],
   "source": [
    "ne = frame.nelements\n",
    "ndof = frame.ndof\n",
    "EI = np.ones(ne)*E*I\n",
    "ES = np.ones(ne)*E*S\n",
    "f_x = 0*np.ones(7)\n",
    "f_y = 0*np.ones(7)\n",
    "frame.set_distributed_loads(f_x, f_y)\n",
    "frame.set_stiffness(EI, ES)\n",
    "blocked_dof = np.array([0, 1, 2, ndof-3, ndof-2, ndof-1])\n",
    "bc_values = np.array([0, 0, 0, 0, 0, 0])"
   ]
  },
  {
   "cell_type": "code",
   "execution_count": 13,
   "metadata": {
    "collapsed": false
   },
   "outputs": [],
   "source": [
    "K = frame.assemble_K()\n"
   ]
  },
  {
   "cell_type": "code",
   "execution_count": 14,
   "metadata": {
    "collapsed": false
   },
   "outputs": [
    {
     "name": "stdout",
     "output_type": "stream",
     "text": [
      "[ 0.  0.  0.  2.  0.  0.  5.  0.  0.  0. -3.  0. -3.  0.  0. -2.  0.  0.\n",
      "  0.  0.  0.]\n"
     ]
    }
   ],
   "source": [
    "u=np.array([0.,0.,0.,\n",
    "            2.,0.,0.,\n",
    "            5.,0.,0.,\n",
    "            0.,-3.,0.,\n",
    "            -3.,0.,0.,\n",
    "            -2.,0.,0.,\n",
    "            0.,0.,0.])\n",
    "\n",
    "print (u)\n"
   ]
  },
  {
   "cell_type": "code",
   "execution_count": 15,
   "metadata": {
    "collapsed": false
   },
   "outputs": [
    {
     "data": {
      "text/plain": [
       "array([ -2.40740741e-01,  -5.15939161e-16,   5.41666667e+00,\n",
       "         1.42702152e+01,  -7.17477895e-17,   9.98697917e+00,\n",
       "         3.56068892e+01,   1.58226897e+00,   2.63265108e+01,\n",
       "        -1.41818182e+01,  -3.16453794e+00,   0.00000000e+00,\n",
       "        -2.13235085e+01,   1.58226897e+00,  -2.32796358e+01,\n",
       "        -1.43717777e+01,   3.20043511e-16,  -6.94010417e+00,\n",
       "         2.40740741e-01,  -5.15939161e-16,  -5.41666667e+00])"
      ]
     },
     "execution_count": 15,
     "metadata": {},
     "output_type": "execute_result"
    }
   ],
   "source": [
    "F= np.dot(K,np.transpose(u))\n",
    "F\n"
   ]
  },
  {
   "cell_type": "code",
   "execution_count": 16,
   "metadata": {
    "collapsed": false
   },
   "outputs": [
    {
     "data": {
      "image/png": "[encoded data removed]",
      "text/latex": [
       "$$-0.322582868644$$"
      ],
      "text/plain": [
       "-0.322582868644"
      ]
     },
     "execution_count": 16,
     "metadata": {},
     "output_type": "execute_result"
    }
   ],
   "source": [
    "m=F[10]/g\n",
    "m"
   ]
  },
  {
   "cell_type": "markdown",
   "metadata": {},
   "source": [
    "La masse accrochée serait d'environ 320g"
   ]
  },
  {
   "cell_type": "markdown",
   "metadata": {},
   "source": [
    "# Exercice 3"
   ]
  },
  {
   "cell_type": "markdown",
   "metadata": {},
   "source": [
    "Dans cette exercice, on doit créer des fonctions à l'intérieur de notre classe frame afin de récupérer l'effort normal(N), l'effort tangentielle (T) et le moment sur z (M)."
   ]
  },
  {
   "cell_type": "code",
   "execution_count": null,
   "metadata": {
    "collapsed": true
   },
   "outputs": [],
   "source": [
    "def find_N(self,element):\n",
    "        \"\"\"\n",
    "        Returns the normal force of an element.\n",
    "        \"\"\"\n",
    "        F = self.assemble_F()\n",
    "        N = F[3*element]\n",
    "        return N\n",
    "    \n",
    "def find_T(self,element):\n",
    "        \"\"\"\n",
    "        Returns the tangential force of an element.\n",
    "        \"\"\"\n",
    "        F = self.assemble_F()\n",
    "        T = F[3*element+1]\n",
    "        return T\n",
    "    \n",
    "def find_M(self,element):\n",
    "        \"\"\"\n",
    "        Returns the moment of an element.\n",
    "        \"\"\"\n",
    "        F = self.assemble_F()\n",
    "        M = F[3*element+2]\n",
    "        return M"
   ]
  }
 ],
 "metadata": {
  "kernelspec": {
   "display_name": "Python 2",
   "language": "python",
   "name": "python2"
  },
  "language_info": {
   "codemirror_mode": {
    "name": "ipython",
    "version": 2
   },
   "file_extension": ".py",
   "mimetype": "text/x-python",
   "name": "python",
   "nbconvert_exporter": "python",
   "pygments_lexer": "ipython2",
   "version": "2.7.11"
  }
 },
 "nbformat": 4,
 "nbformat_minor": 0
}
